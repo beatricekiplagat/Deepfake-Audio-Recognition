{
  "nbformat": 4,
  "nbformat_minor": 0,
  "metadata": {
    "colab": {
      "name": "CNN_custom.ipynb",
      "provenance": [],
      "collapsed_sections": [],
      "include_colab_link": true
    },
    "kernelspec": {
      "name": "python3",
      "display_name": "Python 3"
    },
    "accelerator": "GPU",
    "widgets": {
      "application/vnd.jupyter.widget-state+json": {
        "ed9a321628bb43579214080bcc0b7a83": {
          "model_module": "@jupyter-widgets/controls",
          "model_name": "VBoxModel",
          "model_module_version": "1.5.0",
          "state": {
            "_view_name": "VBoxView",
            "_dom_classes": [],
            "_model_name": "VBoxModel",
            "_view_module": "@jupyter-widgets/controls",
            "_model_module_version": "1.5.0",
            "_view_count": null,
            "_view_module_version": "1.5.0",
            "box_style": "",
            "layout": "IPY_MODEL_53630f8f10584b52b49bc87576ec089d",
            "_model_module": "@jupyter-widgets/controls",
            "children": [
              "IPY_MODEL_2427850e747048e29c9a4b3e44820298",
              "IPY_MODEL_5cdef50534e74a48a83bc102a0ef74a2"
            ]
          }
        },
        "53630f8f10584b52b49bc87576ec089d": {
          "model_module": "@jupyter-widgets/base",
          "model_name": "LayoutModel",
          "model_module_version": "1.2.0",
          "state": {
            "_view_name": "LayoutView",
            "grid_template_rows": null,
            "right": null,
            "justify_content": null,
            "_view_module": "@jupyter-widgets/base",
            "overflow": null,
            "_model_module_version": "1.2.0",
            "_view_count": null,
            "flex_flow": null,
            "width": null,
            "min_width": null,
            "border": null,
            "align_items": null,
            "bottom": null,
            "_model_module": "@jupyter-widgets/base",
            "top": null,
            "grid_column": null,
            "overflow_y": null,
            "overflow_x": null,
            "grid_auto_flow": null,
            "grid_area": null,
            "grid_template_columns": null,
            "flex": null,
            "_model_name": "LayoutModel",
            "justify_items": null,
            "grid_row": null,
            "max_height": null,
            "align_content": null,
            "visibility": null,
            "align_self": null,
            "height": null,
            "min_height": null,
            "padding": null,
            "grid_auto_rows": null,
            "grid_gap": null,
            "max_width": null,
            "order": null,
            "_view_module_version": "1.2.0",
            "grid_template_areas": null,
            "object_position": null,
            "object_fit": null,
            "grid_auto_columns": null,
            "margin": null,
            "display": null,
            "left": null
          }
        },
        "2427850e747048e29c9a4b3e44820298": {
          "model_module": "@jupyter-widgets/controls",
          "model_name": "LabelModel",
          "model_module_version": "1.5.0",
          "state": {
            "_view_name": "LabelView",
            "style": "IPY_MODEL_4f5f281d8e9347909c14577e76ef62f8",
            "_dom_classes": [],
            "description": "",
            "_model_name": "LabelModel",
            "placeholder": "​",
            "_view_module": "@jupyter-widgets/controls",
            "_model_module_version": "1.5.0",
            "value": " 80.32MB of 80.32MB uploaded (0.00MB deduped)\r",
            "_view_count": null,
            "_view_module_version": "1.5.0",
            "description_tooltip": null,
            "_model_module": "@jupyter-widgets/controls",
            "layout": "IPY_MODEL_0006af48576e49448dde4ee34746ec1e"
          }
        },
        "5cdef50534e74a48a83bc102a0ef74a2": {
          "model_module": "@jupyter-widgets/controls",
          "model_name": "FloatProgressModel",
          "model_module_version": "1.5.0",
          "state": {
            "_view_name": "ProgressView",
            "style": "IPY_MODEL_38092eeb0ace46409a9ea9e614e5403c",
            "_dom_classes": [],
            "description": "",
            "_model_name": "FloatProgressModel",
            "bar_style": "",
            "max": 1,
            "_view_module": "@jupyter-widgets/controls",
            "_model_module_version": "1.5.0",
            "value": 1,
            "_view_count": null,
            "_view_module_version": "1.5.0",
            "orientation": "horizontal",
            "min": 0,
            "description_tooltip": null,
            "_model_module": "@jupyter-widgets/controls",
            "layout": "IPY_MODEL_305cdec2cb314a23a9e9f11aa93f8e1b"
          }
        },
        "4f5f281d8e9347909c14577e76ef62f8": {
          "model_module": "@jupyter-widgets/controls",
          "model_name": "DescriptionStyleModel",
          "model_module_version": "1.5.0",
          "state": {
            "_view_name": "StyleView",
            "_model_name": "DescriptionStyleModel",
            "description_width": "",
            "_view_module": "@jupyter-widgets/base",
            "_model_module_version": "1.5.0",
            "_view_count": null,
            "_view_module_version": "1.2.0",
            "_model_module": "@jupyter-widgets/controls"
          }
        },
        "0006af48576e49448dde4ee34746ec1e": {
          "model_module": "@jupyter-widgets/base",
          "model_name": "LayoutModel",
          "model_module_version": "1.2.0",
          "state": {
            "_view_name": "LayoutView",
            "grid_template_rows": null,
            "right": null,
            "justify_content": null,
            "_view_module": "@jupyter-widgets/base",
            "overflow": null,
            "_model_module_version": "1.2.0",
            "_view_count": null,
            "flex_flow": null,
            "width": null,
            "min_width": null,
            "border": null,
            "align_items": null,
            "bottom": null,
            "_model_module": "@jupyter-widgets/base",
            "top": null,
            "grid_column": null,
            "overflow_y": null,
            "overflow_x": null,
            "grid_auto_flow": null,
            "grid_area": null,
            "grid_template_columns": null,
            "flex": null,
            "_model_name": "LayoutModel",
            "justify_items": null,
            "grid_row": null,
            "max_height": null,
            "align_content": null,
            "visibility": null,
            "align_self": null,
            "height": null,
            "min_height": null,
            "padding": null,
            "grid_auto_rows": null,
            "grid_gap": null,
            "max_width": null,
            "order": null,
            "_view_module_version": "1.2.0",
            "grid_template_areas": null,
            "object_position": null,
            "object_fit": null,
            "grid_auto_columns": null,
            "margin": null,
            "display": null,
            "left": null
          }
        },
        "38092eeb0ace46409a9ea9e614e5403c": {
          "model_module": "@jupyter-widgets/controls",
          "model_name": "ProgressStyleModel",
          "model_module_version": "1.5.0",
          "state": {
            "_view_name": "StyleView",
            "_model_name": "ProgressStyleModel",
            "description_width": "",
            "_view_module": "@jupyter-widgets/base",
            "_model_module_version": "1.5.0",
            "_view_count": null,
            "_view_module_version": "1.2.0",
            "bar_color": null,
            "_model_module": "@jupyter-widgets/controls"
          }
        },
        "305cdec2cb314a23a9e9f11aa93f8e1b": {
          "model_module": "@jupyter-widgets/base",
          "model_name": "LayoutModel",
          "model_module_version": "1.2.0",
          "state": {
            "_view_name": "LayoutView",
            "grid_template_rows": null,
            "right": null,
            "justify_content": null,
            "_view_module": "@jupyter-widgets/base",
            "overflow": null,
            "_model_module_version": "1.2.0",
            "_view_count": null,
            "flex_flow": null,
            "width": null,
            "min_width": null,
            "border": null,
            "align_items": null,
            "bottom": null,
            "_model_module": "@jupyter-widgets/base",
            "top": null,
            "grid_column": null,
            "overflow_y": null,
            "overflow_x": null,
            "grid_auto_flow": null,
            "grid_area": null,
            "grid_template_columns": null,
            "flex": null,
            "_model_name": "LayoutModel",
            "justify_items": null,
            "grid_row": null,
            "max_height": null,
            "align_content": null,
            "visibility": null,
            "align_self": null,
            "height": null,
            "min_height": null,
            "padding": null,
            "grid_auto_rows": null,
            "grid_gap": null,
            "max_width": null,
            "order": null,
            "_view_module_version": "1.2.0",
            "grid_template_areas": null,
            "object_position": null,
            "object_fit": null,
            "grid_auto_columns": null,
            "margin": null,
            "display": null,
            "left": null
          }
        }
      }
    }
  },
  "cells": [
    {
      "cell_type": "markdown",
      "metadata": {
        "id": "view-in-github",
        "colab_type": "text"
      },
      "source": [
        "<a href=\"https://colab.research.google.com/github/beatricekiplagat/Deepfake-Audio-Recognition/blob/main/CNN_custom.ipynb\" target=\"_parent\"><img src=\"https://colab.research.google.com/assets/colab-badge.svg\" alt=\"Open In Colab\"/></a>"
      ]
    },
    {
      "cell_type": "code",
      "metadata": {
        "id": "NBS3auyGxDRa",
        "colab": {
          "base_uri": "https://localhost:8080/"
        },
        "outputId": "c4101d9a-506c-4aab-95d2-58b602d71abe"
      },
      "source": [
        "!pip install wandb"
      ],
      "execution_count": 12,
      "outputs": [
        {
          "output_type": "stream",
          "name": "stdout",
          "text": [
            "Requirement already satisfied: termcolor<2.0.0,>=1.1.0 in /usr/local/lib/python3.7/dist-packages (from yaspin>=1.0.0->wandb) (1.1.0)\n"
          ]
        }
      ]
    },
    {
      "cell_type": "code",
      "metadata": {
        "id": "aH-5qH4vxG8Y"
      },
      "source": [
        "import wandb\n",
        "from wandb.keras import WandbCallback"
      ],
      "execution_count": 13,
      "outputs": []
    },
    {
      "cell_type": "code",
      "metadata": {
        "id": "bluTB3plmQB1"
      },
      "source": [
        "import os"
      ],
      "execution_count": 14,
      "outputs": []
    },
    {
      "cell_type": "code",
      "metadata": {
        "colab": {
          "base_uri": "https://localhost:8080/"
        },
        "id": "n4UWj-TSmUMP",
        "outputId": "dec8b88f-ad1e-40b4-96a7-6014792aa72e"
      },
      "source": [
        "from google.colab import drive\n",
        "drive.mount('/content/drive')"
      ],
      "execution_count": 15,
      "outputs": [
        {
          "output_type": "stream",
          "name": "stdout",
          "text": [
            "Drive already mounted at /content/drive; to attempt to forcibly remount, call drive.mount(\"/content/drive\", force_remount=True).\n"
          ]
        }
      ]
    },
    {
      "cell_type": "code",
      "metadata": {
        "id": "Dv8Pg0cco7HY"
      },
      "source": [
        "train_dir = '/content/drive/MyDrive/DEEPFAKE AUDIO DETECTION PROJECT/DATASETS/Train'\n",
        "validation_dir = \"/content/drive/MyDrive/DEEPFAKE AUDIO DETECTION PROJECT/DATASETS/Test\""
      ],
      "execution_count": 16,
      "outputs": []
    },
    {
      "cell_type": "code",
      "metadata": {
        "id": "Kt2tMFVLnNMD"
      },
      "source": [
        "train_spoof = \"/content/drive/MyDrive/DEEPFAKE AUDIO DETECTION PROJECT/DATASETS/Train/Spoof\"\n",
        "train_bonafide = \"/content/drive/MyDrive/DEEPFAKE AUDIO DETECTION PROJECT/DATASETS/Train/Bonafide\"\n",
        "test_spoof = \"/content/drive/MyDrive/DEEPFAKE AUDIO DETECTION PROJECT/DATASETS/Test/Spoof\"\n",
        "test_bonafide = \"/content/drive/MyDrive/DEEPFAKE AUDIO DETECTION PROJECT/DATASETS/Test/Bonafide\""
      ],
      "execution_count": 17,
      "outputs": []
    },
    {
      "cell_type": "code",
      "metadata": {
        "id": "ul3XAbIyr7vC",
        "colab": {
          "base_uri": "https://localhost:8080/"
        },
        "outputId": "aa4ae529-0f0c-40f6-b7ac-768ab0102db7"
      },
      "source": [
        "print('total training spoof images:', len(os.listdir(train_spoof)))\n",
        "print('total training bonafide images:', len(os.listdir(train_bonafide)))\n",
        "\n",
        "\n",
        "\n",
        "print('total test spoof images:', len(os.listdir(test_spoof)))\n",
        "print('total test bonafide images:', len(os.listdir(test_bonafide)))"
      ],
      "execution_count": 18,
      "outputs": [
        {
          "output_type": "stream",
          "name": "stdout",
          "text": [
            "total training spoof images: 799\n",
            "total training bonafide images: 851\n",
            "total test spoof images: 201\n",
            "total test bonafide images: 199\n"
          ]
        }
      ]
    },
    {
      "cell_type": "code",
      "metadata": {
        "id": "o9yTA21_r-ma",
        "colab": {
          "base_uri": "https://localhost:8080/"
        },
        "outputId": "3f81da26-b0ad-4042-ff56-facc5b9c1ba6"
      },
      "source": [
        "from tensorflow.keras import layers\n",
        "from tensorflow.keras import models\n",
        "\n",
        "#Created sequential models using Keras\n",
        "model = models.Sequential()\n",
        "model.add(layers.Conv2D(32, (3, 3), activation='relu', input_shape=(150, 150, 3)))\n",
        "model.add(layers.MaxPooling2D((2, 2)))\n",
        "model.add(layers.Conv2D(64, (3, 3), activation='relu'))\n",
        "model.add(layers.MaxPooling2D((2, 2)))\n",
        "model.add(layers.Conv2D(128, (3, 3), activation='relu'))\n",
        "model.add(layers.MaxPooling2D((2, 2)))\n",
        "model.add(layers.Conv2D(128, (3, 3), activation='relu'))\n",
        "model.add(layers.MaxPooling2D((2, 2)))\n",
        "model.add(layers.Flatten())\n",
        "model.add(layers.Dense(512, activation='relu'))\n",
        "model.add(layers.Dense(1, activation='sigmoid'))\n",
        "model.summary()"
      ],
      "execution_count": 22,
      "outputs": [
        {
          "output_type": "stream",
          "name": "stdout",
          "text": [
            "Model: \"sequential\"\n",
            "_________________________________________________________________\n",
            "Layer (type)                 Output Shape              Param #   \n",
            "=================================================================\n",
            "conv2d (Conv2D)              (None, 148, 148, 32)      896       \n",
            "_________________________________________________________________\n",
            "max_pooling2d (MaxPooling2D) (None, 74, 74, 32)        0         \n",
            "_________________________________________________________________\n",
            "conv2d_1 (Conv2D)            (None, 72, 72, 64)        18496     \n",
            "_________________________________________________________________\n",
            "max_pooling2d_1 (MaxPooling2 (None, 36, 36, 64)        0         \n",
            "_________________________________________________________________\n",
            "conv2d_2 (Conv2D)            (None, 34, 34, 128)       73856     \n",
            "_________________________________________________________________\n",
            "max_pooling2d_2 (MaxPooling2 (None, 17, 17, 128)       0         \n",
            "_________________________________________________________________\n",
            "conv2d_3 (Conv2D)            (None, 15, 15, 128)       147584    \n",
            "_________________________________________________________________\n",
            "max_pooling2d_3 (MaxPooling2 (None, 7, 7, 128)         0         \n",
            "_________________________________________________________________\n",
            "flatten (Flatten)            (None, 6272)              0         \n",
            "_________________________________________________________________\n",
            "dense (Dense)                (None, 512)               3211776   \n",
            "_________________________________________________________________\n",
            "dense_1 (Dense)              (None, 1)                 513       \n",
            "=================================================================\n",
            "Total params: 3,453,121\n",
            "Trainable params: 3,453,121\n",
            "Non-trainable params: 0\n",
            "_________________________________________________________________\n"
          ]
        }
      ]
    },
    {
      "cell_type": "code",
      "metadata": {
        "id": "2mG8wekxsBVS",
        "colab": {
          "base_uri": "https://localhost:8080/"
        },
        "outputId": "b3f67f9f-eb49-423a-e07e-c2b3ff362f06"
      },
      "source": [
        "from tensorflow.keras.optimizers import Adam\n",
        "# opt = RMSprop(lr=1e-4)\n",
        "opt = Adam(lr=1e-4)\n",
        "model.compile(loss='binary_crossentropy', \n",
        "              optimizer=opt,\n",
        "              metrics=['acc'])"
      ],
      "execution_count": 23,
      "outputs": [
        {
          "output_type": "stream",
          "name": "stderr",
          "text": [
            "/usr/local/lib/python3.7/dist-packages/tensorflow/python/keras/optimizer_v2/optimizer_v2.py:375: UserWarning: The `lr` argument is deprecated, use `learning_rate` instead.\n",
            "  \"The `lr` argument is deprecated, use `learning_rate` instead.\")\n"
          ]
        }
      ]
    },
    {
      "cell_type": "code",
      "metadata": {
        "id": "XJ7XU7t9sEh6",
        "colab": {
          "base_uri": "https://localhost:8080/"
        },
        "outputId": "d8a66872-3c96-42f2-c76e-242a7f7f482a"
      },
      "source": [
        "from keras.preprocessing.image import ImageDataGenerator\n",
        "\n",
        "train_datagen = ImageDataGenerator(rescale=1./255)\n",
        "test_datagen = ImageDataGenerator(rescale=1./255)\n",
        "\n",
        "train_generator = train_datagen.flow_from_directory(train_dir,\n",
        "                                                    target_size=(150, 150), \n",
        "                                                    batch_size=20, # batch size in models \n",
        "                                                    class_mode='binary')\n",
        "\n",
        "validation_generator = test_datagen.flow_from_directory(validation_dir,\n",
        "                                                        target_size=(150, 150),\n",
        "                                                        batch_size=20,\n",
        "                                                        class_mode='binary')"
      ],
      "execution_count": 24,
      "outputs": [
        {
          "output_type": "stream",
          "name": "stdout",
          "text": [
            "Found 1650 images belonging to 2 classes.\n",
            "Found 400 images belonging to 2 classes.\n"
          ]
        }
      ]
    },
    {
      "cell_type": "markdown",
      "metadata": {
        "id": "SEgLywySqm4u"
      },
      "source": [
        "Let’s fit the model to the data using the generator. You do so using the fit_generator method, the equivalent of fit for data generators like this one. It expects as its first argument a Python generator that will yield batches of inputs and targets indefinitely,like this one does. Because the data is being generated endlessly, the Keras model needs to know how many samples to draw from the generator before declaring anepoch over. This is the role of the `steps_per_epoch` argument: after having drawn `steps_per_epoch` batches from the generator—that is, after having run for `steps_per_epoch` gradient descent steps—the fitting process will go to the next epoch. In this case, batches are 20 samples, so it will take 100 batches until you see your target of 2,000 samples.\n",
        "\n",
        "When using fit_generator, you can pass a validation_data argument, much as with the fit method. It’s important to note that this argument is allowed to be a data generator, but it could also be a tuple of Numpy arrays. If you pass a generator as validation_data, then this generator is expected to yield batches of validation data endlessly; thus you should also specify the validation_steps argument, which tells the process how many batches to draw from the validation generator for evaluation."
      ]
    },
    {
      "cell_type": "code",
      "metadata": {
        "colab": {
          "base_uri": "https://localhost:8080/",
          "height": 600
        },
        "id": "x39p4OgNxL0b",
        "outputId": "6c64ea1b-cd32-4763-cce8-ba3e2554d9f8"
      },
      "source": [
        "run = wandb.init(project='DeepFake Audio Detection', entity='ruoro', save_code=True, \n",
        "           config = {\n",
        "               'learning_rate': 0.0001,\n",
        "               'epochs': 7,\n",
        "               'batch_size' : 4,\n",
        "               'loss_function' : 'binary_crossentropy'\n",
        "           })\n",
        "run"
      ],
      "execution_count": 10,
      "outputs": [
        {
          "output_type": "stream",
          "name": "stderr",
          "text": [
            "\u001b[34m\u001b[1mwandb\u001b[0m: Currently logged in as: \u001b[33mruoro\u001b[0m (use `wandb login --relogin` to force relogin)\n"
          ]
        },
        {
          "output_type": "display_data",
          "data": {
            "text/html": [
              "\n",
              "                Tracking run with wandb version 0.12.2<br/>\n",
              "                Syncing run <strong style=\"color:#cdcd00\">astral-pyramid-83</strong> to <a href=\"https://wandb.ai\" target=\"_blank\">Weights & Biases</a> <a href=\"https://docs.wandb.com/integrations/jupyter.html\" target=\"_blank\">(Documentation)</a>.<br/>\n",
              "                Project page: <a href=\"https://wandb.ai/ruoro/DeepFake%20Audio%20Detection\" target=\"_blank\">https://wandb.ai/ruoro/DeepFake%20Audio%20Detection</a><br/>\n",
              "                Run page: <a href=\"https://wandb.ai/ruoro/DeepFake%20Audio%20Detection/runs/1ktcjvzd\" target=\"_blank\">https://wandb.ai/ruoro/DeepFake%20Audio%20Detection/runs/1ktcjvzd</a><br/>\n",
              "                Run data is saved locally in <code>/content/wandb/run-20210928_054248-1ktcjvzd</code><br/><br/>\n",
              "            "
            ],
            "text/plain": [
              "<IPython.core.display.HTML object>"
            ]
          },
          "metadata": {}
        },
        {
          "output_type": "execute_result",
          "data": {
            "text/plain": [
              "<wandb.sdk.wandb_run.Run at 0x7f95e9136210>"
            ],
            "text/html": [
              "<h1>Run(1ktcjvzd)</h1><iframe src=\"https://wandb.ai/ruoro/DeepFake%20Audio%20Detection/runs/1ktcjvzd\" style=\"border:none;width:100%;height:400px\"></iframe>"
            ]
          },
          "metadata": {},
          "execution_count": 10
        }
      ]
    },
    {
      "cell_type": "code",
      "metadata": {
        "id": "yMyfPphJsJG6",
        "colab": {
          "base_uri": "https://localhost:8080/"
        },
        "outputId": "30c24117-7db7-4213-df60-eee514fea529"
      },
      "source": [
        "history = model.fit_generator(train_generator,\n",
        "                              steps_per_epoch=30,\n",
        "                              epochs=30,\n",
        "                              validation_data=validation_generator,\n",
        "                              validation_steps=10,\n",
        "                              callbacks = [WandbCallback(data_type = \"image\", generator = validation_generator) ])"
      ],
      "execution_count": 28,
      "outputs": [
        {
          "output_type": "stream",
          "name": "stderr",
          "text": [
            "/usr/local/lib/python3.7/dist-packages/tensorflow/python/keras/engine/training.py:1969: UserWarning: `Model.fit_generator` is deprecated and will be removed in a future version. Please use `Model.fit`, which supports generators.\n",
            "  warnings.warn('`Model.fit_generator` is deprecated and '\n"
          ]
        },
        {
          "output_type": "stream",
          "name": "stdout",
          "text": [
            "Epoch 1/30\n",
            "30/30 [==============================] - 9s 285ms/step - loss: 0.4644 - acc: 0.7850 - val_loss: 0.3897 - val_acc: 0.8250\n",
            "Epoch 2/30\n",
            "30/30 [==============================] - 8s 281ms/step - loss: 0.3795 - acc: 0.8417 - val_loss: 0.3389 - val_acc: 0.9050\n",
            "Epoch 3/30\n",
            "30/30 [==============================] - 8s 275ms/step - loss: 0.3594 - acc: 0.8783 - val_loss: 0.2622 - val_acc: 0.9200\n",
            "Epoch 4/30\n",
            "30/30 [==============================] - 8s 273ms/step - loss: 0.2495 - acc: 0.9217 - val_loss: 0.2395 - val_acc: 0.9050\n",
            "Epoch 5/30\n",
            "30/30 [==============================] - 8s 275ms/step - loss: 0.2334 - acc: 0.9217 - val_loss: 0.1624 - val_acc: 0.9500\n",
            "Epoch 6/30\n",
            "30/30 [==============================] - 8s 279ms/step - loss: 0.2039 - acc: 0.9339 - val_loss: 0.1469 - val_acc: 0.9550\n",
            "Epoch 7/30\n",
            "30/30 [==============================] - 8s 272ms/step - loss: 0.2340 - acc: 0.9233 - val_loss: 0.1939 - val_acc: 0.9250\n",
            "Epoch 8/30\n",
            "30/30 [==============================] - 8s 269ms/step - loss: 0.2190 - acc: 0.9200 - val_loss: 0.1436 - val_acc: 0.9400\n",
            "Epoch 9/30\n",
            "30/30 [==============================] - 8s 270ms/step - loss: 0.1660 - acc: 0.9367 - val_loss: 0.1728 - val_acc: 0.9450\n",
            "Epoch 10/30\n",
            "30/30 [==============================] - 8s 270ms/step - loss: 0.1945 - acc: 0.9267 - val_loss: 0.1538 - val_acc: 0.9400\n",
            "Epoch 11/30\n",
            "30/30 [==============================] - 8s 268ms/step - loss: 0.1841 - acc: 0.9250 - val_loss: 0.1420 - val_acc: 0.9350\n",
            "Epoch 12/30\n",
            "30/30 [==============================] - 8s 277ms/step - loss: 0.2058 - acc: 0.9250 - val_loss: 0.1592 - val_acc: 0.9450\n",
            "Epoch 13/30\n",
            "30/30 [==============================] - 9s 276ms/step - loss: 0.1435 - acc: 0.9500 - val_loss: 0.1190 - val_acc: 0.9550\n",
            "Epoch 14/30\n",
            "30/30 [==============================] - 8s 274ms/step - loss: 0.1513 - acc: 0.9500 - val_loss: 0.1509 - val_acc: 0.9550\n",
            "Epoch 15/30\n",
            "30/30 [==============================] - 9s 282ms/step - loss: 0.1234 - acc: 0.9517 - val_loss: 0.1080 - val_acc: 0.9550\n",
            "Epoch 16/30\n",
            "30/30 [==============================] - 8s 272ms/step - loss: 0.1469 - acc: 0.9508 - val_loss: 0.1408 - val_acc: 0.9500\n",
            "Epoch 17/30\n",
            "30/30 [==============================] - 8s 270ms/step - loss: 0.1412 - acc: 0.9433 - val_loss: 0.2348 - val_acc: 0.9050\n",
            "Epoch 18/30\n",
            "30/30 [==============================] - 9s 271ms/step - loss: 0.1329 - acc: 0.9500 - val_loss: 0.1242 - val_acc: 0.9500\n",
            "Epoch 19/30\n",
            "30/30 [==============================] - 9s 274ms/step - loss: 0.1820 - acc: 0.9233 - val_loss: 0.1101 - val_acc: 0.9500\n",
            "Epoch 20/30\n",
            "30/30 [==============================] - 9s 278ms/step - loss: 0.1431 - acc: 0.9467 - val_loss: 0.1383 - val_acc: 0.9450\n",
            "Epoch 21/30\n",
            "30/30 [==============================] - 9s 278ms/step - loss: 0.1138 - acc: 0.9617 - val_loss: 0.1400 - val_acc: 0.9400\n",
            "Epoch 22/30\n",
            "30/30 [==============================] - 9s 272ms/step - loss: 0.1321 - acc: 0.9500 - val_loss: 0.1174 - val_acc: 0.9500\n",
            "Epoch 23/30\n",
            "30/30 [==============================] - 8s 268ms/step - loss: 0.1206 - acc: 0.9525 - val_loss: 0.1203 - val_acc: 0.9400\n",
            "Epoch 24/30\n",
            "30/30 [==============================] - 8s 263ms/step - loss: 0.1104 - acc: 0.9610 - val_loss: 0.1133 - val_acc: 0.9600\n",
            "Epoch 25/30\n",
            "30/30 [==============================] - 8s 272ms/step - loss: 0.1017 - acc: 0.9617 - val_loss: 0.1337 - val_acc: 0.9400\n",
            "Epoch 26/30\n",
            "30/30 [==============================] - 8s 268ms/step - loss: 0.0890 - acc: 0.9733 - val_loss: 0.1373 - val_acc: 0.9450\n",
            "Epoch 27/30\n",
            "30/30 [==============================] - 8s 267ms/step - loss: 0.1162 - acc: 0.9525 - val_loss: 0.0976 - val_acc: 0.9600\n",
            "Epoch 28/30\n",
            "30/30 [==============================] - 9s 281ms/step - loss: 0.1027 - acc: 0.9600 - val_loss: 0.1322 - val_acc: 0.9450\n",
            "Epoch 29/30\n",
            "30/30 [==============================] - 9s 279ms/step - loss: 0.0962 - acc: 0.9567 - val_loss: 0.0809 - val_acc: 0.9600\n",
            "Epoch 30/30\n",
            "30/30 [==============================] - 8s 273ms/step - loss: 0.0863 - acc: 0.9683 - val_loss: 0.1021 - val_acc: 0.9600\n"
          ]
        }
      ]
    },
    {
      "cell_type": "code",
      "metadata": {
        "id": "MZaZ2HWZsNUi",
        "colab": {
          "base_uri": "https://localhost:8080/",
          "height": 545
        },
        "outputId": "25d803c9-7435-48eb-dc54-8af7926459dc"
      },
      "source": [
        "# model.save('soundmodel.h5')\n",
        "\n",
        "import matplotlib.pyplot as plt\n",
        "\n",
        "acc = history.history['acc']\n",
        "val_acc = history.history['val_acc']\n",
        "loss = history.history['loss']\n",
        "val_loss = history.history['val_loss']\n",
        "\n",
        "epochs = range(1, len(acc) + 1)\n",
        "\n",
        "plt.plot(epochs, acc, 'bo', label='Training acc')\n",
        "plt.plot(epochs, val_acc, 'b', label='Validation acc')\n",
        "plt.title('Training and validation accuracy')\n",
        "plt.legend()\n",
        "\n",
        "plt.figure()\n",
        "\n",
        "plt.plot(epochs, loss, 'bo', label='Training loss')\n",
        "plt.plot(epochs, val_loss, 'b', label='Validation loss')\n",
        "plt.title('Training and validation loss')\n",
        "plt.legend()\n",
        "\n",
        "plt.show()"
      ],
      "execution_count": 29,
      "outputs": [
        {
          "output_type": "display_data",
          "data": {
            "image/png": "[encoded data removed]",
            "text/plain": [
              "<Figure size 432x288 with 1 Axes>"
            ]
          },
          "metadata": {
            "needs_background": "light"
          }
        },
        {
          "output_type": "display_data",
          "data": {
            "image/png": "[encoded data removed]",
            "text/plain": [
              "<Figure size 432x288 with 1 Axes>"
            ]
          },
          "metadata": {
            "needs_background": "light"
          }
        }
      ]
    },
    {
      "cell_type": "code",
      "metadata": {
        "id": "KKiF87j6Ae5a"
      },
      "source": [
        "from tensorflow.keras.models import load_model\n",
        "model = load_model ('/content/soundmodel.h5')"
      ],
      "execution_count": 47,
      "outputs": []
    },
    {
      "cell_type": "code",
      "metadata": {
        "colab": {
          "base_uri": "https://localhost:8080/"
        },
        "id": "2Q-dNKTir_sS",
        "outputId": "f61fb6ca-a199-415e-932b-e5153658d561"
      },
      "source": [
        "import cv2\n",
        "import numpy as np\n",
        "\n",
        "# img_path = \"/content/drive/MyDrive/DEEPFAKE AUDIO DETECTION PROJECT/DATASETS/Test/Spoof/LA_D_1099173.png\"\n",
        "# img_path = \"/content/drive/MyDrive/DEEPFAKE AUDIO DETECTION PROJECT/DATASETS/Test/Spoof/LA_D_2367943.png\"\n",
        "# img_path = \"/content/drive/MyDrive/DEEPFAKE AUDIO DETECTION PROJECT/DATASETS/Test/Bonafide/LA_D_1481335.png\"\n",
        "img_path = \"/content/drive/MyDrive/DEEPFAKE AUDIO DETECTION PROJECT/DATASETS/Test/Bonafide/LA_D_2412960.png\"\n",
        "# img_path = \"/content/drive/MyDrive/DEEPFAKE AUDIO DETECTION PROJECT/DATASETS/Test/Bonafide/LA_D_2436364.png\"\n",
        "\n",
        "img = cv2.imread(img_path)\n",
        "# img = cv2.imread(img_path)\n",
        "img = cv2.resize(img, (150, 150))\n",
        "\n",
        "x = np.expand_dims(img, axis=0)\n",
        "# # Now predict the class of image. \n",
        "preds = model.predict(x)\n",
        "\n",
        "preds\n",
        "# if preds == 1:\n",
        "#   print (\"Spoofed Audio\")\n",
        "# else:\n",
        "#   print('Bonafide')\n"
      ],
      "execution_count": 53,
      "outputs": [
        {
          "output_type": "execute_result",
          "data": {
            "text/plain": [
              "array([[0.]], dtype=float32)"
            ]
          },
          "metadata": {},
          "execution_count": 53
        }
      ]
    },
    {
      "cell_type": "code",
      "metadata": {
        "id": "q2CO28fpua3X",
        "colab": {
          "base_uri": "https://localhost:8080/"
        },
        "outputId": "836eb8ce-6149-4f11-ea96-f63ecd82ac5b"
      },
      "source": [
        "model = wandb.Artifact('soundmodel', type='model')\n",
        "model.add_file('soundmodel.h5')\n",
        "\n",
        "run.log_artifact(model)"
      ],
      "execution_count": 44,
      "outputs": [
        {
          "output_type": "execute_result",
          "data": {
            "text/plain": [
              "<wandb.sdk.wandb_artifacts.Artifact at 0x7f956e87e790>"
            ]
          },
          "metadata": {},
          "execution_count": 44
        }
      ]
    },
    {
      "cell_type": "code",
      "metadata": {
        "colab": {
          "base_uri": "https://localhost:8080/",
          "height": 546,
          "referenced_widgets": [
            "ed9a321628bb43579214080bcc0b7a83",
            "53630f8f10584b52b49bc87576ec089d",
            "2427850e747048e29c9a4b3e44820298",
            "5cdef50534e74a48a83bc102a0ef74a2",
            "4f5f281d8e9347909c14577e76ef62f8",
            "0006af48576e49448dde4ee34746ec1e",
            "38092eeb0ace46409a9ea9e614e5403c",
            "305cdec2cb314a23a9e9f11aa93f8e1b"
          ]
        },
        "id": "IeIC5HZn9_s2",
        "outputId": "5b8516b5-e296-4a14-b0a2-a2ede5790392"
      },
      "source": [
        "wandb.finish()"
      ],
      "execution_count": 45,
      "outputs": [
        {
          "output_type": "display_data",
          "data": {
            "text/html": [
              "<br/>Waiting for W&B process to finish, PID 2981<br/>Program ended successfully."
            ],
            "text/plain": [
              "<IPython.core.display.HTML object>"
            ]
          },
          "metadata": {}
        },
        {
          "output_type": "display_data",
          "data": {
            "application/vnd.jupyter.widget-view+json": {
              "model_id": "ed9a321628bb43579214080bcc0b7a83",
              "version_minor": 0,
              "version_major": 2
            },
            "text/plain": [
              "VBox(children=(Label(value=' 80.22MB of 80.22MB uploaded (0.00MB deduped)\\r'), FloatProgress(value=1.0, max=1.…"
            ]
          },
          "metadata": {}
        },
        {
          "output_type": "display_data",
          "data": {
            "text/html": [
              "Find user logs for this run at: <code>/content/wandb/run-20210928_054248-1ktcjvzd/logs/debug.log</code>"
            ],
            "text/plain": [
              "<IPython.core.display.HTML object>"
            ]
          },
          "metadata": {}
        },
        {
          "output_type": "display_data",
          "data": {
            "text/html": [
              "Find internal logs for this run at: <code>/content/wandb/run-20210928_054248-1ktcjvzd/logs/debug-internal.log</code>"
            ],
            "text/plain": [
              "<IPython.core.display.HTML object>"
            ]
          },
          "metadata": {}
        },
        {
          "output_type": "display_data",
          "data": {
            "text/html": [
              "<h3>Run summary:</h3><br/><style>\n",
              "    table.wandb td:nth-child(1) { padding: 0 10px; text-align: right }\n",
              "    </style><table class=\"wandb\">\n",
              "<tr><td>acc</td><td>0.96833</td></tr><tr><td>best_epoch</td><td>28</td></tr><tr><td>best_val_loss</td><td>0.08086</td></tr><tr><td>epoch</td><td>29</td></tr><tr><td>loss</td><td>0.08634</td></tr><tr><td>val_acc</td><td>0.96</td></tr><tr><td>val_loss</td><td>0.10212</td></tr></table>"
            ],
            "text/plain": [
              "<IPython.core.display.HTML object>"
            ]
          },
          "metadata": {}
        },
        {
          "output_type": "display_data",
          "data": {
            "text/html": [
              "<h3>Run history:</h3><br/><style>\n",
              "    table.wandb td:nth-child(1) { padding: 0 10px; text-align: right }\n",
              "    </style><table class=\"wandb\">\n",
              "<tr><td>acc</td><td>▁▂▄▅▆▇▇▇▇▇▇▇▇▇████▇█▇▇██████████</td></tr><tr><td>epoch</td><td>▁▁▁▁▁▂▂▂▂▃▃▃▃▄▄▄▄▅▅▅▅▆▆▆▆▇▇▇▇███</td></tr><tr><td>loss</td><td>█▇▆▅▄▃▃▂▃▃▂▂▂▃▂▂▁▂▂▂▂▂▁▂▁▁▁▁▁▁▁▁</td></tr><tr><td>val_acc</td><td>▁▁▃▆▇▆██▇▇▇▇▇▇████▆██▇▇█▇█▇▇█▇██</td></tr><tr><td>val_loss</td><td>█▇▆▅▄▄▂▂▃▂▂▂▂▂▂▂▁▂▃▂▁▂▂▂▂▂▂▂▁▂▁▁</td></tr></table><br/>"
            ],
            "text/plain": [
              "<IPython.core.display.HTML object>"
            ]
          },
          "metadata": {}
        },
        {
          "output_type": "display_data",
          "data": {
            "text/html": [
              "Synced 5 W&B file(s), 601 media file(s), 34 artifact file(s) and 2 other file(s)"
            ],
            "text/plain": [
              "<IPython.core.display.HTML object>"
            ]
          },
          "metadata": {}
        },
        {
          "output_type": "display_data",
          "data": {
            "text/html": [
              "\n",
              "                    <br/>Synced <strong style=\"color:#cdcd00\">astral-pyramid-83</strong>: <a href=\"https://wandb.ai/ruoro/DeepFake%20Audio%20Detection/runs/1ktcjvzd\" target=\"_blank\">https://wandb.ai/ruoro/DeepFake%20Audio%20Detection/runs/1ktcjvzd</a><br/>\n",
              "                "
            ],
            "text/plain": [
              "<IPython.core.display.HTML object>"
            ]
          },
          "metadata": {}
        }
      ]
    }
  ]
}
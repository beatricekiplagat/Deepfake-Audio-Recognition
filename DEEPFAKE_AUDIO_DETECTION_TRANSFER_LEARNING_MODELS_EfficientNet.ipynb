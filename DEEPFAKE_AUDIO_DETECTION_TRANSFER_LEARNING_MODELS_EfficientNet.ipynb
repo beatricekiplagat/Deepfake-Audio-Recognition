{
  "nbformat": 4,
  "nbformat_minor": 0,
  "metadata": {
    "colab": {
      "name": "DEEPFAKE AUDIO DETECTION TRANSFER LEARNING MODELS -  EfficientNet.ipynb",
      "provenance": [],
      "mount_file_id": "1jFl8SD6X6-AsgbIO7BDWa4kcQLoJBXqj",
      "authorship_tag": "ABX9TyOVtpeVVh8YHiZo6FOcGsd/",
      "include_colab_link": true
    },
    "kernelspec": {
      "name": "python3",
      "display_name": "Python 3"
    },
    "language_info": {
      "name": "python"
    }
  },
  "cells": [
    {
      "cell_type": "markdown",
      "metadata": {
        "id": "view-in-github",
        "colab_type": "text"
      },
      "source": [
        "<a href=\"https://colab.research.google.com/github/beatricekiplagat/Deepfake-Audio-Recognition/blob/dev_branch/DEEPFAKE_AUDIO_DETECTION_TRANSFER_LEARNING_MODELS_EfficientNet.ipynb\" target=\"_parent\"><img src=\"https://colab.research.google.com/assets/colab-badge.svg\" alt=\"Open In Colab\"/></a>"
      ]
    },
    {
      "cell_type": "markdown",
      "metadata": {
        "id": "T5SsA2I3duKx"
      },
      "source": [
        "Dataset Preperation"
      ]
    },
    {
      "cell_type": "code",
      "metadata": {
        "id": "L9MFWrLxd1V6"
      },
      "source": [
        ""
      ],
      "execution_count": null,
      "outputs": []
    },
    {
      "cell_type": "code",
      "metadata": {
        "colab": {
          "base_uri": "https://localhost:8080/"
        },
        "id": "gHfP0tmSdRCZ",
        "outputId": "7733b785-3011-46d9-fa08-702e408c8daf"
      },
      "source": [
        "import numpy as np\n",
        "import tensorflow as tf\n",
        "\n",
        "import numpy as np \n",
        "import pandas as pd \n",
        "import matplotlib.pyplot as plt\n",
        "import os\n",
        "\n",
        "dataset_path = os.listdir('/content/drive/MyDrive/DEEPFAKE AUDIO DETECTION PROJECT/DATASETS/Train')\n",
        "\n",
        "print (dataset_path)  #what kinds of classes are in this dataset\n",
        "\n",
        "print(\"Types of classes labels found: \", len(dataset_path))\n",
        "\n",
        "class_labels = []\n",
        "\n",
        "for item in dataset_path:\n",
        " # Get all the file names\n",
        " all_classes = os.listdir('/content/drive/MyDrive/DEEPFAKE AUDIO DETECTION PROJECT/DATASETS/Train' + '/' +item)\n",
        " #print(all_classes)\n",
        "\n",
        " # Add them to the list\n",
        " for room in all_classes:\n",
        "    class_labels.append((item, str('dataset_path' + '/' +item) + '/' + room))\n",
        "    #print(class_labels[:5])\n",
        "    \n",
        "    \n",
        "# Build a dataframe        \n",
        "df = pd.DataFrame(data=class_labels, columns=['Labels', 'image'])\n",
        "print(df.head())\n",
        "print(df.tail())"
      ],
      "execution_count": 2,
      "outputs": [
        {
          "output_type": "stream",
          "name": "stdout",
          "text": [
            "['Spoof', 'Bonafide']\n",
            "Types of classes labels found:  2\n",
            "  Labels                                image\n",
            "0  Spoof  dataset_path/Spoof/LA_D_7121651.png\n",
            "1  Spoof  dataset_path/Spoof/LA_D_7212590.png\n",
            "2  Spoof  dataset_path/Spoof/LA_D_6131320.png\n",
            "3  Spoof  dataset_path/Spoof/LA_D_6692719.png\n",
            "4  Spoof  dataset_path/Spoof/LA_D_8380959.png\n",
            "        Labels                                           image\n",
            "1645  Bonafide  dataset_path/Bonafide/Copy of LA_D_5945817.png\n",
            "1646  Bonafide  dataset_path/Bonafide/Copy of LA_D_1696066.png\n",
            "1647  Bonafide  dataset_path/Bonafide/Copy of LA_D_5226379.png\n",
            "1648  Bonafide  dataset_path/Bonafide/Copy of LA_D_3440131.png\n",
            "1649  Bonafide  dataset_path/Bonafide/Copy of LA_D_8126437.png\n"
          ]
        }
      ]
    },
    {
      "cell_type": "code",
      "metadata": {
        "colab": {
          "base_uri": "https://localhost:8080/"
        },
        "id": "qO4tdc1UeRMc",
        "outputId": "79f422b4-f89b-4a82-f2db-c5399f9c3b49"
      },
      "source": [
        "\n",
        "# Let's check how many samples for each category are present\n",
        "print(\"Total number of images in the dataset: \", len(df))\n",
        "\n",
        "label_count = df['Labels'].value_counts()\n",
        "print(label_count)"
      ],
      "execution_count": 3,
      "outputs": [
        {
          "output_type": "stream",
          "name": "stdout",
          "text": [
            "Total number of images in the dataset:  1650\n",
            "Bonafide    851\n",
            "Spoof       799\n",
            "Name: Labels, dtype: int64\n"
          ]
        }
      ]
    },
    {
      "cell_type": "code",
      "metadata": {
        "id": "gUD28ky5eYSZ"
      },
      "source": [
        "import cv2\n",
        "path = '/content/drive/MyDrive/DEEPFAKE AUDIO DETECTION PROJECT/DATASETS/Train/'\n",
        "dataset_path = os.listdir('/content/drive/MyDrive/DEEPFAKE AUDIO DETECTION PROJECT/DATASETS/Train')\n",
        "\n",
        "im_size = 224\n",
        "\n",
        "images = []\n",
        "labels = []\n",
        "\n",
        "for i in dataset_path:\n",
        "    data_path = path + str(i)  \n",
        "    filenames = [i for i in os.listdir(data_path) ]\n",
        "   \n",
        "    for f in filenames:\n",
        "        img = cv2.imread(data_path + '/' + f)\n",
        "        img = cv2.resize(img, (im_size, im_size))\n",
        "        images.append(img)\n",
        "        labels.append(i)"
      ],
      "execution_count": 5,
      "outputs": []
    },
    {
      "cell_type": "code",
      "metadata": {
        "colab": {
          "base_uri": "https://localhost:8080/"
        },
        "id": "tany_xBYtRph",
        "outputId": "70e527c6-d88f-4bf3-cb95-82d6a23bafd9"
      },
      "source": [
        "#This model takes input images of shape (224, 224, 3), and the input data should range [0, 255]. \n",
        "\n",
        "images = np.array(images)\n",
        "\n",
        "images = images.astype('float32') / 255.0\n",
        "images.shape"
      ],
      "execution_count": 6,
      "outputs": [
        {
          "output_type": "execute_result",
          "data": {
            "text/plain": [
              "(1650, 224, 224, 3)"
            ]
          },
          "metadata": {},
          "execution_count": 6
        }
      ]
    },
    {
      "cell_type": "code",
      "metadata": {
        "colab": {
          "base_uri": "https://localhost:8080/"
        },
        "id": "IVr8QN9EtZ99",
        "outputId": "bdd2e9b2-3c07-4acd-f377-35299d1b9f72"
      },
      "source": [
        "#Pre-processing the data. We need to perform label encoding in order to get the model to work\n",
        "from sklearn.preprocessing import LabelEncoder , OneHotEncoder\n",
        "y=df['Labels'].values\n",
        "print(y)\n",
        "\n",
        "y_labelencoder = LabelEncoder ()\n",
        "y = y_labelencoder.fit_transform (y)\n",
        "print (y)"
      ],
      "execution_count": 7,
      "outputs": [
        {
          "output_type": "stream",
          "name": "stdout",
          "text": [
            "['Spoof' 'Spoof' 'Spoof' ... 'Bonafide' 'Bonafide' 'Bonafide']\n",
            "[1 1 1 ... 0 0 0]\n"
          ]
        }
      ]
    },
    {
      "cell_type": "code",
      "metadata": {
        "colab": {
          "base_uri": "https://localhost:8080/"
        },
        "id": "WFUmJm-Ktgbv",
        "outputId": "06b2deb1-98d8-4541-c52c-7b28faea9f5a"
      },
      "source": [
        "y=y.reshape(-1,1)\n",
        "\n",
        "from sklearn.compose import ColumnTransformer\n",
        "ct = ColumnTransformer([('my_ohe', OneHotEncoder(), [0])], remainder='passthrough')\n",
        "Y = ct.fit_transform(y) #.toarray()\n",
        "print(Y[:5])\n",
        "print(Y[35:])"
      ],
      "execution_count": 8,
      "outputs": [
        {
          "output_type": "stream",
          "name": "stdout",
          "text": [
            "[[0. 1.]\n",
            " [0. 1.]\n",
            " [0. 1.]\n",
            " [0. 1.]\n",
            " [0. 1.]]\n",
            "[[0. 1.]\n",
            " [0. 1.]\n",
            " [0. 1.]\n",
            " ...\n",
            " [1. 0.]\n",
            " [1. 0.]\n",
            " [1. 0.]]\n"
          ]
        }
      ]
    },
    {
      "cell_type": "code",
      "metadata": {
        "colab": {
          "base_uri": "https://localhost:8080/"
        },
        "id": "Tem1hzumtlb_",
        "outputId": "533b5bdd-de1c-4c8a-b57b-e017b6ce7343"
      },
      "source": [
        "from sklearn.utils import shuffle\n",
        "from sklearn.model_selection import train_test_split\n",
        "\n",
        "\n",
        "images, Y = shuffle(images, Y, random_state=1)\n",
        "\n",
        "\n",
        "train_x, test_x, train_y, test_y = train_test_split(images, Y, test_size=0.05, random_state=415)\n",
        "\n",
        "#inpect the shape of the training and testing.\n",
        "print(train_x.shape)\n",
        "print(train_y.shape)\n",
        "print(test_x.shape)\n",
        "print(test_y.shape)"
      ],
      "execution_count": 9,
      "outputs": [
        {
          "output_type": "stream",
          "name": "stdout",
          "text": [
            "(1567, 224, 224, 3)\n",
            "(1567, 2)\n",
            "(83, 224, 224, 3)\n",
            "(83, 2)\n"
          ]
        }
      ]
    },
    {
      "cell_type": "markdown",
      "metadata": {
        "id": "oieEbV5-uVcr"
      },
      "source": [
        "EfficientNet Implementation :"
      ]
    },
    {
      "cell_type": "code",
      "metadata": {
        "id": "EwLSefLMt9FQ"
      },
      "source": [
        "from tensorflow.keras import layers\n",
        "from tensorflow.keras.applications import EfficientNetB0\n",
        "\n",
        "NUM_CLASSES = 2\n",
        "IMG_SIZE = 224\n",
        "size = (IMG_SIZE, IMG_SIZE)\n",
        "\n",
        "\n",
        "inputs = layers.Input(shape=(IMG_SIZE, IMG_SIZE, 3))\n",
        "\n",
        "\n",
        "# Using model without transfer learning\n",
        "\n",
        "outputs = EfficientNetB0(include_top=True, weights=None, classes=NUM_CLASSES)(inputs)"
      ],
      "execution_count": 12,
      "outputs": []
    },
    {
      "cell_type": "code",
      "metadata": {
        "colab": {
          "base_uri": "https://localhost:8080/"
        },
        "id": "mk7wC7Cnup5O",
        "outputId": "431694e1-366e-499d-c73b-3d2b9b1978c3"
      },
      "source": [
        "model = tf.keras.Model(inputs, outputs)\n",
        "\n",
        "model.compile(optimizer=\"adam\", loss=\"categorical_crossentropy\", metrics=[\"accuracy\"] )\n",
        "\n",
        "model.summary()\n",
        "\n",
        "hist = model.fit(train_x, train_y, epochs=30, verbose=2)"
      ],
      "execution_count": 13,
      "outputs": [
        {
          "output_type": "stream",
          "name": "stdout",
          "text": [
            "Model: \"model\"\n",
            "_________________________________________________________________\n",
            "Layer (type)                 Output Shape              Param #   \n",
            "=================================================================\n",
            "input_5 (InputLayer)         [(None, 224, 224, 3)]     0         \n",
            "_________________________________________________________________\n",
            "efficientnetb0 (Functional)  (None, 2)                 4052133   \n",
            "=================================================================\n",
            "Total params: 4,052,133\n",
            "Trainable params: 4,010,110\n",
            "Non-trainable params: 42,023\n",
            "_________________________________________________________________\n",
            "Epoch 1/30\n",
            "49/49 - 337s - loss: 1.3833 - accuracy: 0.6477\n",
            "Epoch 2/30\n",
            "49/49 - 323s - loss: 0.4650 - accuracy: 0.8200\n",
            "Epoch 3/30\n",
            "49/49 - 322s - loss: 0.3731 - accuracy: 0.8500\n",
            "Epoch 4/30\n",
            "49/49 - 325s - loss: 0.3332 - accuracy: 0.8800\n",
            "Epoch 5/30\n",
            "49/49 - 326s - loss: 0.1775 - accuracy: 0.9317\n",
            "Epoch 6/30\n",
            "49/49 - 328s - loss: 0.2019 - accuracy: 0.9311\n",
            "Epoch 7/30\n",
            "49/49 - 326s - loss: 0.1046 - accuracy: 0.9611\n",
            "Epoch 8/30\n",
            "49/49 - 324s - loss: 0.1204 - accuracy: 0.9611\n",
            "Epoch 9/30\n",
            "49/49 - 325s - loss: 0.0926 - accuracy: 0.9719\n",
            "Epoch 10/30\n",
            "49/49 - 324s - loss: 0.0848 - accuracy: 0.9713\n",
            "Epoch 11/30\n",
            "49/49 - 325s - loss: 0.0505 - accuracy: 0.9821\n",
            "Epoch 12/30\n",
            "49/49 - 331s - loss: 0.0582 - accuracy: 0.9770\n",
            "Epoch 13/30\n",
            "49/49 - 338s - loss: 0.0584 - accuracy: 0.9796\n",
            "Epoch 14/30\n",
            "49/49 - 341s - loss: 0.0571 - accuracy: 0.9821\n",
            "Epoch 15/30\n",
            "49/49 - 340s - loss: 0.0537 - accuracy: 0.9828\n",
            "Epoch 16/30\n",
            "49/49 - 342s - loss: 0.0627 - accuracy: 0.9821\n",
            "Epoch 17/30\n",
            "49/49 - 338s - loss: 0.0380 - accuracy: 0.9898\n",
            "Epoch 18/30\n",
            "49/49 - 338s - loss: 0.0492 - accuracy: 0.9809\n",
            "Epoch 19/30\n",
            "49/49 - 339s - loss: 0.0370 - accuracy: 0.9847\n",
            "Epoch 20/30\n",
            "49/49 - 334s - loss: 0.0317 - accuracy: 0.9923\n",
            "Epoch 21/30\n",
            "49/49 - 338s - loss: 0.0295 - accuracy: 0.9917\n",
            "Epoch 22/30\n",
            "49/49 - 332s - loss: 0.0259 - accuracy: 0.9904\n",
            "Epoch 23/30\n",
            "49/49 - 321s - loss: 0.0167 - accuracy: 0.9955\n",
            "Epoch 24/30\n",
            "49/49 - 319s - loss: 0.0310 - accuracy: 0.9892\n",
            "Epoch 25/30\n",
            "49/49 - 322s - loss: 0.0453 - accuracy: 0.9866\n",
            "Epoch 26/30\n",
            "49/49 - 323s - loss: 0.0466 - accuracy: 0.9872\n",
            "Epoch 27/30\n",
            "49/49 - 325s - loss: 0.0295 - accuracy: 0.9866\n",
            "Epoch 28/30\n",
            "49/49 - 325s - loss: 0.0179 - accuracy: 0.9923\n",
            "Epoch 29/30\n",
            "49/49 - 327s - loss: 0.0163 - accuracy: 0.9936\n",
            "Epoch 30/30\n",
            "49/49 - 327s - loss: 0.0206 - accuracy: 0.9962\n"
          ]
        }
      ]
    },
    {
      "cell_type": "code",
      "metadata": {
        "colab": {
          "base_uri": "https://localhost:8080/",
          "height": 295
        },
        "id": "ddk1e9URvM4w",
        "outputId": "4ea9e55a-3d37-40ad-cade-c0d1913d1fd1"
      },
      "source": [
        "import matplotlib.pyplot as plt\n",
        "\n",
        "\n",
        "def plot_hist(hist):\n",
        "    plt.plot(hist.history[\"accuracy\"])\n",
        "    plt.plot(hist.history[\"loss\"])\n",
        "    plt.title(\"model accuracy\")\n",
        "    plt.ylabel(\"accuracy\")\n",
        "    plt.xlabel(\"epoch\")\n",
        "    plt.legend([\"train\", \"loss\"], loc=\"upper right\")\n",
        "    plt.show()\n",
        "\n",
        "\n",
        "plot_hist(hist)"
      ],
      "execution_count": 29,
      "outputs": [
        {
          "output_type": "display_data",
          "data": {
            "image/png": "[encoded data removed]",
            "text/plain": [
              "<Figure size 432x288 with 1 Axes>"
            ]
          },
          "metadata": {
            "needs_background": "light"
          }
        }
      ]
    },
    {
      "cell_type": "code",
      "metadata": {
        "colab": {
          "base_uri": "https://localhost:8080/"
        },
        "id": "Z0RmvchXvT6j",
        "outputId": "0b41840f-fa56-4561-e449-88ebd68773f0"
      },
      "source": [
        "preds = model.evaluate(test_x, test_y)\n",
        "print (\"Loss = \" + str(preds[0]))\n",
        "print (\"Test Accuracy = \" + str(preds[1]))"
      ],
      "execution_count": 15,
      "outputs": [
        {
          "output_type": "stream",
          "name": "stdout",
          "text": [
            "3/3 [==============================] - 5s 963ms/step - loss: 0.3273 - accuracy: 0.9157\n",
            "Loss = 0.32728710770606995\n",
            "Test Accuracy = 0.9156626462936401\n"
          ]
        }
      ]
    },
    {
      "cell_type": "markdown",
      "metadata": {
        "id": "nIyUvh1uvdA8"
      },
      "source": [
        "TESTING MODEL ON UNSEEN DATA :"
      ]
    },
    {
      "cell_type": "code",
      "metadata": {
        "colab": {
          "base_uri": "https://localhost:8080/",
          "height": 220
        },
        "id": "CbNVwhVEvgC9",
        "outputId": "1936d157-09dc-46e2-f1cd-3bed27a95046"
      },
      "source": [
        "from matplotlib.pyplot import imread\n",
        "from matplotlib.pyplot import imshow\n",
        "from tensorflow.keras.preprocessing import image\n",
        "from tensorflow.keras.applications.imagenet_utils import decode_predictions\n",
        "from tensorflow.keras.applications.imagenet_utils import preprocess_input\n",
        "\n",
        "\n",
        "img_path = '/content/drive/MyDrive/DEEPFAKE AUDIO DETECTION PROJECT/DATASETS/Test/Bonafide/LA_D_1556595.png'\n",
        "\n",
        "#img = image.load_img(img_path, target_size=(224, 224))\n",
        "#x = img.img_to_array(img)\n",
        "\n",
        "img = cv2.imread(img_path)\n",
        "img = cv2.resize(img, (224, 224))\n",
        "\n",
        "x = np.expand_dims(img, axis=0)\n",
        "x = preprocess_input(x)\n",
        "\n",
        "print('Input image shape:', x.shape)\n",
        "\n",
        "my_image = imread(img_path)\n",
        "imshow(my_image)"
      ],
      "execution_count": 36,
      "outputs": [
        {
          "output_type": "stream",
          "name": "stdout",
          "text": [
            "Input image shape: (1, 224, 224, 3)\n"
          ]
        },
        {
          "output_type": "execute_result",
          "data": {
            "text/plain": [
              "<matplotlib.image.AxesImage at 0x7f4b92208550>"
            ]
          },
          "metadata": {},
          "execution_count": 36
        },
        {
          "output_type": "display_data",
          "data": {
            "image/png": "[encoded data removed]",
            "text/plain": [
              "<Figure size 432x288 with 1 Axes>"
            ]
          },
          "metadata": {
            "needs_background": "light"
          }
        }
      ]
    },
    {
      "cell_type": "code",
      "metadata": {
        "colab": {
          "base_uri": "https://localhost:8080/"
        },
        "id": "fzjtR44JwDY3",
        "outputId": "892b9439-9969-4f56-e84c-94856c075bfd"
      },
      "source": [
        "preds=model.predict(x)\n",
        "preds     # probabilities for being in each of the 2 classes"
      ],
      "execution_count": 37,
      "outputs": [
        {
          "output_type": "execute_result",
          "data": {
            "text/plain": [
              "array([[0., 1.]], dtype=float32)"
            ]
          },
          "metadata": {},
          "execution_count": 37
        }
      ]
    },
    {
      "cell_type": "code",
      "metadata": {
        "id": "EGfhDrqTwH9t"
      },
      "source": [
        ""
      ],
      "execution_count": null,
      "outputs": []
    }
  ]
}
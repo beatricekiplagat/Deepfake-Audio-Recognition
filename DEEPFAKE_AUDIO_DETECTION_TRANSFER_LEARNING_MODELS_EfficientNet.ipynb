{
  "nbformat": 4,
  "nbformat_minor": 0,
  "metadata": {
    "colab": {
      "name": "DEEPFAKE AUDIO DETECTION TRANSFER LEARNING MODELS -  EfficientNet.ipynb",
      "provenance": [],
      "include_colab_link": true
    },
    "kernelspec": {
      "name": "python3",
      "display_name": "Python 3"
    },
    "language_info": {
      "name": "python"
    }
  },
  "cells": [
    {
      "cell_type": "markdown",
      "metadata": {
        "id": "view-in-github",
        "colab_type": "text"
      },
      "source": [
        "<a href=\"https://colab.research.google.com/github/beatricekiplagat/Deepfake-Audio-Recognition/blob/main/DEEPFAKE_AUDIO_DETECTION_TRANSFER_LEARNING_MODELS_EfficientNet.ipynb\" target=\"_parent\"><img src=\"https://colab.research.google.com/assets/colab-badge.svg\" alt=\"Open In Colab\"/></a>"
      ]
    },
    {
      "cell_type": "markdown",
      "metadata": {
        "id": "T5SsA2I3duKx"
      },
      "source": [
        "Dataset Preperation"
      ]
    },
    {
      "cell_type": "code",
      "metadata": {
        "id": "L9MFWrLxd1V6"
      },
      "source": [
        "!pip install wandb"
      ],
      "execution_count": null,
      "outputs": []
    },
    {
      "cell_type": "code",
      "metadata": {
        "colab": {
          "base_uri": "https://localhost:8080/"
        },
        "id": "UoCd-J1D9ksd",
        "outputId": "a00d3a04-b043-44ec-8cb4-290d1f678de2"
      },
      "source": [
        "from google.colab import drive\n",
        "drive.mount('/content/drive')"
      ],
      "execution_count": 3,
      "outputs": [
        {
          "output_type": "stream",
          "name": "stdout",
          "text": [
            "Mounted at /content/drive\n"
          ]
        }
      ]
    },
    {
      "cell_type": "code",
      "metadata": {
        "colab": {
          "base_uri": "https://localhost:8080/"
        },
        "id": "gHfP0tmSdRCZ",
        "outputId": "a2df715f-5e52-454d-d6dc-e2b392f746cb"
      },
      "source": [
        "import wandb\n",
        "from wandb.keras import WandbCallback\n",
        "import numpy as np\n",
        "import tensorflow as tf\n",
        "\n",
        "import numpy as np \n",
        "import pandas as pd \n",
        "import matplotlib.pyplot as plt\n",
        "import os\n",
        "\n",
        "dataset_path = os.listdir('/content/drive/MyDrive/DEEPFAKE AUDIO DETECTION PROJECT/DATASETS/Train')\n",
        "\n",
        "print (dataset_path)  #what kinds of classes are in this dataset\n",
        "\n",
        "print(\"Types of classes labels found: \", len(dataset_path))\n",
        "\n",
        "class_labels = []\n",
        "\n",
        "for item in dataset_path:\n",
        " # Get all the file names\n",
        " all_classes = os.listdir('/content/drive/MyDrive/DEEPFAKE AUDIO DETECTION PROJECT/DATASETS/Train' + '/' +item)\n",
        " #print(all_classes)\n",
        "\n",
        " # Add them to the list\n",
        " for room in all_classes:\n",
        "    class_labels.append((item, str('dataset_path' + '/' +item) + '/' + room))\n",
        "    #print(class_labels[:5])\n",
        "    \n",
        "    \n",
        "# Build a dataframe        \n",
        "df = pd.DataFrame(data=class_labels, columns=['Labels', 'image'])\n",
        "print(df.head())\n",
        "print(df.tail())"
      ],
      "execution_count": 4,
      "outputs": [
        {
          "output_type": "stream",
          "name": "stdout",
          "text": [
            "['Spoof', 'Bonafide']\n",
            "Types of classes labels found:  2\n",
            "  Labels                                image\n",
            "0  Spoof  dataset_path/Spoof/LA_D_7121651.png\n",
            "1  Spoof  dataset_path/Spoof/LA_D_7212590.png\n",
            "2  Spoof  dataset_path/Spoof/LA_D_6131320.png\n",
            "3  Spoof  dataset_path/Spoof/LA_D_6692719.png\n",
            "4  Spoof  dataset_path/Spoof/LA_D_8380959.png\n",
            "        Labels                                           image\n",
            "1645  Bonafide  dataset_path/Bonafide/Copy of LA_D_5945817.png\n",
            "1646  Bonafide  dataset_path/Bonafide/Copy of LA_D_1696066.png\n",
            "1647  Bonafide  dataset_path/Bonafide/Copy of LA_D_5226379.png\n",
            "1648  Bonafide  dataset_path/Bonafide/Copy of LA_D_3440131.png\n",
            "1649  Bonafide  dataset_path/Bonafide/Copy of LA_D_8126437.png\n"
          ]
        }
      ]
    },
    {
      "cell_type": "code",
      "metadata": {
        "colab": {
          "base_uri": "https://localhost:8080/",
          "height": 69
        },
        "id": "FDWI9SHB_cq-",
        "outputId": "cd2499dd-61af-45c6-e419-c19313842aa8"
      },
      "source": [
        "# Initialize wandb\n",
        "wandb.login()"
      ],
      "execution_count": 16,
      "outputs": [
        {
          "output_type": "display_data",
          "data": {
            "application/javascript": [
              "\n",
              "        window._wandbApiKey = new Promise((resolve, reject) => {\n",
              "            function loadScript(url) {\n",
              "            return new Promise(function(resolve, reject) {\n",
              "                let newScript = document.createElement(\"script\");\n",
              "                newScript.onerror = reject;\n",
              "                newScript.onload = resolve;\n",
              "                document.body.appendChild(newScript);\n",
              "                newScript.src = url;\n",
              "            });\n",
              "            }\n",
              "            loadScript(\"https://cdn.jsdelivr.net/npm/postmate/build/postmate.min.js\").then(() => {\n",
              "            const iframe = document.createElement('iframe')\n",
              "            iframe.style.cssText = \"width:0;height:0;border:none\"\n",
              "            document.body.appendChild(iframe)\n",
              "            const handshake = new Postmate({\n",
              "                container: iframe,\n",
              "                url: 'https://wandb.ai/authorize'\n",
              "            });\n",
              "            const timeout = setTimeout(() => reject(\"Couldn't auto authenticate\"), 5000)\n",
              "            handshake.then(function(child) {\n",
              "                child.on('authorize', data => {\n",
              "                    clearTimeout(timeout)\n",
              "                    resolve(data)\n",
              "                });\n",
              "            });\n",
              "            })\n",
              "        });\n",
              "    "
            ],
            "text/plain": [
              "<IPython.core.display.Javascript object>"
            ]
          },
          "metadata": {}
        },
        {
          "output_type": "stream",
          "name": "stderr",
          "text": [
            "\u001b[34m\u001b[1mwandb\u001b[0m: Appending key for api.wandb.ai to your netrc file: /root/.netrc\n"
          ]
        },
        {
          "output_type": "execute_result",
          "data": {
            "text/plain": [
              "True"
            ]
          },
          "metadata": {},
          "execution_count": 16
        }
      ]
    },
    {
      "cell_type": "code",
      "metadata": {
        "colab": {
          "base_uri": "https://localhost:8080/",
          "height": 599
        },
        "id": "GL9GavCH_1Gj",
        "outputId": "6897daf7-0e04-4662-9704-d3900fd1f5a9"
      },
      "source": [
        "wandb.init(project='DeepFake Audio Detection', entity='ruoro', save_code=True, \n",
        "           config = {\n",
        "               'learning_rate': 0.001,\n",
        "               'epochs': 5,\n",
        "               'batch_size' : 4,\n",
        "               'loss_function' : 'binary_crossentropy'\n",
        "           })"
      ],
      "execution_count": 17,
      "outputs": [
        {
          "output_type": "stream",
          "name": "stderr",
          "text": [
            "\u001b[34m\u001b[1mwandb\u001b[0m: Currently logged in as: \u001b[33mruoro\u001b[0m (use `wandb login --relogin` to force relogin)\n"
          ]
        },
        {
          "output_type": "display_data",
          "data": {
            "text/html": [
              "\n",
              "                Tracking run with wandb version 0.12.2<br/>\n",
              "                Syncing run <strong style=\"color:#cdcd00\">pious-galaxy-41</strong> to <a href=\"https://wandb.ai\" target=\"_blank\">Weights & Biases</a> <a href=\"https://docs.wandb.com/integrations/jupyter.html\" target=\"_blank\">(Documentation)</a>.<br/>\n",
              "                Project page: <a href=\"https://wandb.ai/ruoro/DeepFake%20Audio%20Detection\" target=\"_blank\">https://wandb.ai/ruoro/DeepFake%20Audio%20Detection</a><br/>\n",
              "                Run page: <a href=\"https://wandb.ai/ruoro/DeepFake%20Audio%20Detection/runs/1tsosn14\" target=\"_blank\">https://wandb.ai/ruoro/DeepFake%20Audio%20Detection/runs/1tsosn14</a><br/>\n",
              "                Run data is saved locally in <code>/content/wandb/run-20210922_145436-1tsosn14</code><br/><br/>\n",
              "            "
            ],
            "text/plain": [
              "<IPython.core.display.HTML object>"
            ]
          },
          "metadata": {}
        },
        {
          "output_type": "execute_result",
          "data": {
            "text/plain": [
              "<wandb.sdk.wandb_run.Run at 0x7f0d8109de90>"
            ],
            "text/html": [
              "<h1>Run(1tsosn14)</h1><iframe src=\"https://wandb.ai/ruoro/DeepFake%20Audio%20Detection/runs/1tsosn14\" style=\"border:none;width:100%;height:400px\"></iframe>"
            ]
          },
          "metadata": {},
          "execution_count": 17
        }
      ]
    },
    {
      "cell_type": "code",
      "metadata": {
        "colab": {
          "base_uri": "https://localhost:8080/"
        },
        "id": "qO4tdc1UeRMc",
        "outputId": "10ff450c-6596-4fbb-c178-666543571dcb"
      },
      "source": [
        "\n",
        "# Let's check how many samples for each category are present\n",
        "print(\"Total number of images in the dataset: \", len(df))\n",
        "\n",
        "label_count = df['Labels'].value_counts()\n",
        "print(label_count)"
      ],
      "execution_count": 5,
      "outputs": [
        {
          "output_type": "stream",
          "name": "stdout",
          "text": [
            "Total number of images in the dataset:  1650\n",
            "Bonafide    851\n",
            "Spoof       799\n",
            "Name: Labels, dtype: int64\n"
          ]
        }
      ]
    },
    {
      "cell_type": "code",
      "metadata": {
        "id": "gUD28ky5eYSZ"
      },
      "source": [
        "import cv2\n",
        "path = '/content/drive/MyDrive/DEEPFAKE AUDIO DETECTION PROJECT/DATASETS/Train/'\n",
        "dataset_path = os.listdir('/content/drive/MyDrive/DEEPFAKE AUDIO DETECTION PROJECT/DATASETS/Train')\n",
        "\n",
        "im_size = 224\n",
        "\n",
        "images = []\n",
        "labels = []\n",
        "\n",
        "for i in dataset_path:\n",
        "    data_path = path + str(i)  \n",
        "    filenames = [i for i in os.listdir(data_path) ]\n",
        "   \n",
        "    for f in filenames:\n",
        "        img = cv2.imread(data_path + '/' + f)\n",
        "        img = cv2.resize(img, (im_size, im_size))\n",
        "        images.append(img)\n",
        "        labels.append(i)"
      ],
      "execution_count": 6,
      "outputs": []
    },
    {
      "cell_type": "code",
      "metadata": {
        "colab": {
          "base_uri": "https://localhost:8080/"
        },
        "id": "uGKHiAT0_IbW",
        "outputId": "148838dd-e687-44fb-9b13-5a0263eadb0e"
      },
      "source": [
        "print(len(images))"
      ],
      "execution_count": 13,
      "outputs": [
        {
          "output_type": "stream",
          "name": "stdout",
          "text": [
            "1650\n"
          ]
        }
      ]
    },
    {
      "cell_type": "code",
      "metadata": {
        "colab": {
          "base_uri": "https://localhost:8080/"
        },
        "id": "tany_xBYtRph",
        "outputId": "0a815c62-a637-450a-fb0b-ec34c1e34d2c"
      },
      "source": [
        "#This model takes input images of shape (224, 224, 3), and the input data should range [0, 255]. \n",
        "\n",
        "images = np.array(images)\n",
        "\n",
        "images = images.astype('float32') / 255.0\n",
        "images.shape"
      ],
      "execution_count": 7,
      "outputs": [
        {
          "output_type": "execute_result",
          "data": {
            "text/plain": [
              "(1650, 224, 224, 3)"
            ]
          },
          "metadata": {},
          "execution_count": 7
        }
      ]
    },
    {
      "cell_type": "code",
      "metadata": {
        "colab": {
          "base_uri": "https://localhost:8080/"
        },
        "id": "IVr8QN9EtZ99",
        "outputId": "74838b0b-f4e0-42c8-c1ca-9e5af8b4754e"
      },
      "source": [
        "#Pre-processing the data. We need to perform label encoding in order to get the model to work\n",
        "from sklearn.preprocessing import LabelEncoder , OneHotEncoder\n",
        "y=df['Labels'].values\n",
        "print(y)\n",
        "\n",
        "y_labelencoder = LabelEncoder ()\n",
        "y = y_labelencoder.fit_transform (y)\n",
        "print (y)"
      ],
      "execution_count": 8,
      "outputs": [
        {
          "output_type": "stream",
          "name": "stdout",
          "text": [
            "['Spoof' 'Spoof' 'Spoof' ... 'Bonafide' 'Bonafide' 'Bonafide']\n",
            "[1 1 1 ... 0 0 0]\n"
          ]
        }
      ]
    },
    {
      "cell_type": "code",
      "metadata": {
        "colab": {
          "base_uri": "https://localhost:8080/"
        },
        "id": "WFUmJm-Ktgbv",
        "outputId": "ec7afc5f-904f-4743-fe7f-0b5143a54df4"
      },
      "source": [
        "y=y.reshape(-1,1)\n",
        "\n",
        "from sklearn.compose import ColumnTransformer\n",
        "ct = ColumnTransformer([('my_ohe', OneHotEncoder(), [0])], remainder='passthrough')\n",
        "Y = ct.fit_transform(y) #.toarray()\n",
        "print(Y[:5])\n",
        "print(Y[35:])"
      ],
      "execution_count": 9,
      "outputs": [
        {
          "output_type": "stream",
          "name": "stdout",
          "text": [
            "[[0. 1.]\n",
            " [0. 1.]\n",
            " [0. 1.]\n",
            " [0. 1.]\n",
            " [0. 1.]]\n",
            "[[0. 1.]\n",
            " [0. 1.]\n",
            " [0. 1.]\n",
            " ...\n",
            " [1. 0.]\n",
            " [1. 0.]\n",
            " [1. 0.]]\n"
          ]
        }
      ]
    },
    {
      "cell_type": "code",
      "metadata": {
        "colab": {
          "base_uri": "https://localhost:8080/"
        },
        "id": "Tem1hzumtlb_",
        "outputId": "7e5d91d4-a4f6-486a-f6ee-756800b2d1bb"
      },
      "source": [
        "from sklearn.utils import shuffle\n",
        "from sklearn.model_selection import train_test_split\n",
        "\n",
        "\n",
        "images, Y = shuffle(images, Y, random_state=1)\n",
        "\n",
        "\n",
        "train_x, test_x, train_y, test_y = train_test_split(images, Y, test_size=0.05, random_state=415)\n",
        "\n",
        "#inpect the shape of the training and testing.\n",
        "print(train_x.shape)\n",
        "print(train_y.shape)\n",
        "print(test_x.shape)\n",
        "print(test_y.shape)"
      ],
      "execution_count": 10,
      "outputs": [
        {
          "output_type": "stream",
          "name": "stdout",
          "text": [
            "(1567, 224, 224, 3)\n",
            "(1567, 2)\n",
            "(83, 224, 224, 3)\n",
            "(83, 2)\n"
          ]
        }
      ]
    },
    {
      "cell_type": "markdown",
      "metadata": {
        "id": "oieEbV5-uVcr"
      },
      "source": [
        "EfficientNet Implementation :"
      ]
    },
    {
      "cell_type": "code",
      "metadata": {
        "id": "EwLSefLMt9FQ"
      },
      "source": [
        "from tensorflow.keras import layers\n",
        "from tensorflow.keras.applications import EfficientNetB0\n",
        "\n",
        "NUM_CLASSES = 2\n",
        "IMG_SIZE = 224\n",
        "size = (IMG_SIZE, IMG_SIZE)\n",
        "\n",
        "\n",
        "inputs = layers.Input(shape=(IMG_SIZE, IMG_SIZE, 3))\n",
        "\n",
        "\n",
        "# Using model without transfer learning\n",
        "\n",
        "outputs = EfficientNetB0(include_top=True, weights=None, classes=NUM_CLASSES)(inputs)"
      ],
      "execution_count": 11,
      "outputs": []
    },
    {
      "cell_type": "code",
      "metadata": {
        "colab": {
          "base_uri": "https://localhost:8080/"
        },
        "id": "mk7wC7Cnup5O",
        "outputId": "a0fc4dac-4142-4d6c-fd3b-747b042177fc"
      },
      "source": [
        "model = tf.keras.Model(inputs, outputs)\n",
        "\n",
        "model.compile(optimizer=\"adam\", loss=\"categorical_crossentropy\", metrics=[\"accuracy\"] )\n",
        "\n",
        "model.summary()\n",
        "\n",
        "hist = model.fit(train_x, train_y, epochs=5, callbacks = [WandbCallback()], verbose=2)"
      ],
      "execution_count": 18,
      "outputs": [
        {
          "output_type": "stream",
          "name": "stdout",
          "text": [
            "Model: \"model_2\"\n",
            "_________________________________________________________________\n",
            "Layer (type)                 Output Shape              Param #   \n",
            "=================================================================\n",
            "input_1 (InputLayer)         [(None, 224, 224, 3)]     0         \n",
            "_________________________________________________________________\n",
            "efficientnetb0 (Functional)  (None, 2)                 4052133   \n",
            "=================================================================\n",
            "Total params: 4,052,133\n",
            "Trainable params: 4,010,110\n",
            "Non-trainable params: 42,023\n",
            "_________________________________________________________________\n",
            "Epoch 1/5\n",
            "49/49 - 421s - loss: 1.9600 - accuracy: 0.6675\n",
            "Epoch 2/5\n",
            "49/49 - 405s - loss: 0.5088 - accuracy: 0.8264\n",
            "Epoch 3/5\n",
            "49/49 - 404s - loss: 0.2910 - accuracy: 0.8915\n",
            "Epoch 4/5\n",
            "49/49 - 402s - loss: 0.2585 - accuracy: 0.8902\n",
            "Epoch 5/5\n",
            "49/49 - 402s - loss: 0.2395 - accuracy: 0.9158\n"
          ]
        }
      ]
    },
    {
      "cell_type": "code",
      "metadata": {
        "colab": {
          "base_uri": "https://localhost:8080/",
          "height": 295
        },
        "id": "ddk1e9URvM4w",
        "outputId": "9c2d46a1-9ae0-4600-e39a-eea547b3d69c"
      },
      "source": [
        "import matplotlib.pyplot as plt\n",
        "\n",
        "\n",
        "def plot_hist(hist):\n",
        "    plt.plot(hist.history[\"accuracy\"])\n",
        "    plt.plot(hist.history[\"loss\"])\n",
        "    plt.title(\"model accuracy\")\n",
        "    plt.ylabel(\"accuracy\")\n",
        "    plt.xlabel(\"epoch\")\n",
        "    plt.legend([\"train\", \"loss\"], loc=\"upper right\")\n",
        "    plt.show()\n",
        "\n",
        "\n",
        "plot_hist(hist)"
      ],
      "execution_count": 19,
      "outputs": [
        {
          "output_type": "display_data",
          "data": {
            "image/png": "[encoded data removed]",
            "text/plain": [
              "<Figure size 432x288 with 1 Axes>"
            ]
          },
          "metadata": {
            "needs_background": "light"
          }
        }
      ]
    },
    {
      "cell_type": "code",
      "metadata": {
        "colab": {
          "base_uri": "https://localhost:8080/"
        },
        "id": "Z0RmvchXvT6j",
        "outputId": "a66dff81-6f83-4fbf-e053-f23887d34cfa"
      },
      "source": [
        "preds = model.evaluate(test_x, test_y)\n",
        "print (\"Loss = \" + str(preds[0]))\n",
        "print (\"Test Accuracy = \" + str(preds[1]))"
      ],
      "execution_count": 20,
      "outputs": [
        {
          "output_type": "stream",
          "name": "stdout",
          "text": [
            "3/3 [==============================] - 6s 1s/step - loss: 0.7249 - accuracy: 0.4337\n",
            "Loss = 0.7248793244361877\n",
            "Test Accuracy = 0.4337349534034729\n"
          ]
        }
      ]
    },
    {
      "cell_type": "code",
      "metadata": {
        "id": "HaBmQPRhALMx"
      },
      "source": [
        "# Save the model as a pickle file. \n",
        "import pickle\n",
        "Pkl_Filename = \"efficientnet_model.pkl\"  \n",
        "\n",
        "# with open(Pkl_Filename, 'wb') as file:  \n",
        "#     pickle.dump(model, file)"
      ],
      "execution_count": null,
      "outputs": []
    },
    {
      "cell_type": "code",
      "metadata": {
        "id": "Bs3ZX-sEAf95"
      },
      "source": [
        "# Import Joblib Module from Scikit Learn\n",
        "\n",
        "from sklearn.externals import joblib\n",
        "joblib_file = \"effnetmodel.pkl\"  \n",
        "joblib.dump(model, joblib_file)"
      ],
      "execution_count": null,
      "outputs": []
    },
    {
      "cell_type": "markdown",
      "metadata": {
        "id": "nIyUvh1uvdA8"
      },
      "source": [
        "TESTING MODEL ON UNSEEN DATA :"
      ]
    },
    {
      "cell_type": "code",
      "metadata": {
        "colab": {
          "base_uri": "https://localhost:8080/",
          "height": 220
        },
        "id": "CbNVwhVEvgC9",
        "outputId": "1936d157-09dc-46e2-f1cd-3bed27a95046"
      },
      "source": [
        "from matplotlib.pyplot import imread\n",
        "from matplotlib.pyplot import imshow\n",
        "from tensorflow.keras.preprocessing import image\n",
        "from tensorflow.keras.applications.imagenet_utils import decode_predictions\n",
        "from tensorflow.keras.applications.imagenet_utils import preprocess_input\n",
        "\n",
        "\n",
        "img_path = '/content/drive/MyDrive/DEEPFAKE AUDIO DETECTION PROJECT/DATASETS/Test/Spoof/LA_D_1115199.png'\n",
        "# img_path = '/content/drive/MyDrive/DEEPFAKE AUDIO DETECTION PROJECT/DATASETS/Test/Bonafide/LA_D_1364611.png'\n",
        "#img = image.load_img(img_path, target_size=(224, 224))\n",
        "#x = img.img_to_array(img)\n",
        "\n",
        "img = cv2.imread(img_path)\n",
        "img = cv2.resize(img, (224, 224))\n",
        "\n",
        "x = np.expand_dims(img, axis=0)\n",
        "x = preprocess_input(x)\n",
        "\n",
        "print('Input image shape:', x.shape)\n",
        "\n",
        "my_image = imread(img_path)\n",
        "imshow(my_image)"
      ],
      "execution_count": null,
      "outputs": [
        {
          "output_type": "stream",
          "name": "stdout",
          "text": [
            "Input image shape: (1, 224, 224, 3)\n"
          ]
        },
        {
          "output_type": "execute_result",
          "data": {
            "text/plain": [
              "<matplotlib.image.AxesImage at 0x7f4b92208550>"
            ]
          },
          "metadata": {},
          "execution_count": 36
        },
        {
          "output_type": "display_data",
          "data": {
            "image/png": "[encoded data removed]",
            "text/plain": [
              "<Figure size 432x288 with 1 Axes>"
            ]
          },
          "metadata": {
            "needs_background": "light"
          }
        }
      ]
    },
    {
      "cell_type": "code",
      "metadata": {
        "colab": {
          "base_uri": "https://localhost:8080/"
        },
        "id": "fzjtR44JwDY3",
        "outputId": "892b9439-9969-4f56-e84c-94856c075bfd"
      },
      "source": [
        "preds=model.predict(x)\n",
        "preds     # probabilities for being in each of the 2 classes"
      ],
      "execution_count": null,
      "outputs": [
        {
          "output_type": "execute_result",
          "data": {
            "text/plain": [
              "array([[0., 1.]], dtype=float32)"
            ]
          },
          "metadata": {},
          "execution_count": 37
        }
      ]
    },
    {
      "cell_type": "code",
      "metadata": {
        "id": "EGfhDrqTwH9t"
      },
      "source": [
        "wandb.finish()"
      ],
      "execution_count": null,
      "outputs": []
    }
  ]
}
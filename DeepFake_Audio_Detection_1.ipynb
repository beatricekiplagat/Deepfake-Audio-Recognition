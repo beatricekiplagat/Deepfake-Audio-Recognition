{
  "nbformat": 4,
  "nbformat_minor": 0,
  "metadata": {
    "colab": {
      "name": "DeepFake_Audio_Detection_1.ipynb",
      "provenance": [],
      "collapsed_sections": [],
      "mount_file_id": "1cy5DNoiy1Gdeu6Qau6dm5Yg1v9EEqM0-",
      "authorship_tag": "ABX9TyOiMrs6zo98iFn7Q3hcDRCx",
      "include_colab_link": true
    },
    "kernelspec": {
      "name": "python3",
      "display_name": "Python 3"
    },
    "language_info": {
      "name": "python"
    },
    "accelerator": "GPU"
  },
  "cells": [
    {
      "cell_type": "markdown",
      "metadata": {
        "id": "view-in-github",
        "colab_type": "text"
      },
      "source": [
        "<a href=\"https://colab.research.google.com/github/beatricekiplagat/Deepfake-Audio-Recognition/blob/main/DeepFake_Audio_Detection_1.ipynb\" target=\"_parent\"><img src=\"https://colab.research.google.com/assets/colab-badge.svg\" alt=\"Open In Colab\"/></a>"
      ]
    },
    {
      "cell_type": "markdown",
      "metadata": {
        "id": "dDp3TyhfBhz0"
      },
      "source": [
        "# DEEPFAKE AUDIO DETECTION"
      ]
    },
    {
      "cell_type": "markdown",
      "metadata": {
        "id": "cdo8J8uu6SAL"
      },
      "source": [
        "Workflow\n",
        "1. Load the dataset \n",
        "2. preprocessing - listen to the samples (real and spoofed)\n",
        "3. convert into spectrogram then to mel spectrogram \n",
        "4. choose a suitable sample\n",
        "5. create a model \n",
        "- Pre-Trained Models for Image Classification\n",
        "VGG-16 - research on all of these\n",
        "ResNet50\n",
        "Inceptionv3\n",
        "EfficientNet\n",
        "6. Fine tune the model\n",
        "6. deploy it on website\n",
        "\n",
        " "
      ]
    },
    {
      "cell_type": "markdown",
      "metadata": {
        "id": "nDVCXZk2BpC9"
      },
      "source": [
        "# Importing Libraries"
      ]
    },
    {
      "cell_type": "code",
      "metadata": {
        "colab": {
          "base_uri": "https://localhost:8080/"
        },
        "id": "3-sLxCMVM4Fo",
        "outputId": "536d8c1d-4cd6-4221-bf17-393bd26e7b39"
      },
      "source": [
        "!pip install wandb\n",
        "!pip install playsound"
      ],
      "execution_count": 1,
      "outputs": [
        {
          "output_type": "stream",
          "name": "stdout",
          "text": [
            "Collecting wandb\n",
            "  Downloading wandb-0.12.1-py2.py3-none-any.whl (1.7 MB)\n",
            "\u001b[?25l\r\u001b[K     |▏                               | 10 kB 28.7 MB/s eta 0:00:01\r\u001b[K     |▍                               | 20 kB 29.3 MB/s eta 0:00:01\r\u001b[K     |▋                               | 30 kB 19.3 MB/s eta 0:00:01\r\u001b[K     |▉                               | 40 kB 15.6 MB/s eta 0:00:01\r\u001b[K     |█                               | 51 kB 7.3 MB/s eta 0:00:01\r\u001b[K     |█▏                              | 61 kB 8.5 MB/s eta 0:00:01\r\u001b[K     |█▍                              | 71 kB 7.8 MB/s eta 0:00:01\r\u001b[K     |█▋                              | 81 kB 8.7 MB/s eta 0:00:01\r\u001b[K     |█▉                              | 92 kB 9.2 MB/s eta 0:00:01\r\u001b[K     |██                              | 102 kB 7.1 MB/s eta 0:00:01\r\u001b[K     |██▏                             | 112 kB 7.1 MB/s eta 0:00:01\r\u001b[K     |██▍                             | 122 kB 7.1 MB/s eta 0:00:01\r\u001b[K     |██▋                             | 133 kB 7.1 MB/s eta 0:00:01\r\u001b[K     |██▊                             | 143 kB 7.1 MB/s eta 0:00:01\r\u001b[K     |███                             | 153 kB 7.1 MB/s eta 0:00:01\r\u001b[K     |███▏                            | 163 kB 7.1 MB/s eta 0:00:01\r\u001b[K     |███▍                            | 174 kB 7.1 MB/s eta 0:00:01\r\u001b[K     |███▋                            | 184 kB 7.1 MB/s eta 0:00:01\r\u001b[K     |███▊                            | 194 kB 7.1 MB/s eta 0:00:01\r\u001b[K     |████                            | 204 kB 7.1 MB/s eta 0:00:01\r\u001b[K     |████▏                           | 215 kB 7.1 MB/s eta 0:00:01\r\u001b[K     |████▍                           | 225 kB 7.1 MB/s eta 0:00:01\r\u001b[K     |████▌                           | 235 kB 7.1 MB/s eta 0:00:01\r\u001b[K     |████▊                           | 245 kB 7.1 MB/s eta 0:00:01\r\u001b[K     |█████                           | 256 kB 7.1 MB/s eta 0:00:01\r\u001b[K     |█████▏                          | 266 kB 7.1 MB/s eta 0:00:01\r\u001b[K     |█████▍                          | 276 kB 7.1 MB/s eta 0:00:01\r\u001b[K     |█████▌                          | 286 kB 7.1 MB/s eta 0:00:01\r\u001b[K     |█████▊                          | 296 kB 7.1 MB/s eta 0:00:01\r\u001b[K     |██████                          | 307 kB 7.1 MB/s eta 0:00:01\r\u001b[K     |██████▏                         | 317 kB 7.1 MB/s eta 0:00:01\r\u001b[K     |██████▎                         | 327 kB 7.1 MB/s eta 0:00:01\r\u001b[K     |██████▌                         | 337 kB 7.1 MB/s eta 0:00:01\r\u001b[K     |██████▊                         | 348 kB 7.1 MB/s eta 0:00:01\r\u001b[K     |███████                         | 358 kB 7.1 MB/s eta 0:00:01\r\u001b[K     |███████▏                        | 368 kB 7.1 MB/s eta 0:00:01\r\u001b[K     |███████▎                        | 378 kB 7.1 MB/s eta 0:00:01\r\u001b[K     |███████▌                        | 389 kB 7.1 MB/s eta 0:00:01\r\u001b[K     |███████▊                        | 399 kB 7.1 MB/s eta 0:00:01\r\u001b[K     |████████                        | 409 kB 7.1 MB/s eta 0:00:01\r\u001b[K     |████████                        | 419 kB 7.1 MB/s eta 0:00:01\r\u001b[K     |████████▎                       | 430 kB 7.1 MB/s eta 0:00:01\r\u001b[K     |████████▌                       | 440 kB 7.1 MB/s eta 0:00:01\r\u001b[K     |████████▊                       | 450 kB 7.1 MB/s eta 0:00:01\r\u001b[K     |█████████                       | 460 kB 7.1 MB/s eta 0:00:01\r\u001b[K     |█████████                       | 471 kB 7.1 MB/s eta 0:00:01\r\u001b[K     |█████████▎                      | 481 kB 7.1 MB/s eta 0:00:01\r\u001b[K     |█████████▌                      | 491 kB 7.1 MB/s eta 0:00:01\r\u001b[K     |█████████▊                      | 501 kB 7.1 MB/s eta 0:00:01\r\u001b[K     |█████████▉                      | 512 kB 7.1 MB/s eta 0:00:01\r\u001b[K     |██████████                      | 522 kB 7.1 MB/s eta 0:00:01\r\u001b[K     |██████████▎                     | 532 kB 7.1 MB/s eta 0:00:01\r\u001b[K     |██████████▌                     | 542 kB 7.1 MB/s eta 0:00:01\r\u001b[K     |██████████▊                     | 552 kB 7.1 MB/s eta 0:00:01\r\u001b[K     |██████████▉                     | 563 kB 7.1 MB/s eta 0:00:01\r\u001b[K     |███████████                     | 573 kB 7.1 MB/s eta 0:00:01\r\u001b[K     |███████████▎                    | 583 kB 7.1 MB/s eta 0:00:01\r\u001b[K     |███████████▌                    | 593 kB 7.1 MB/s eta 0:00:01\r\u001b[K     |███████████▋                    | 604 kB 7.1 MB/s eta 0:00:01\r\u001b[K     |███████████▉                    | 614 kB 7.1 MB/s eta 0:00:01\r\u001b[K     |████████████                    | 624 kB 7.1 MB/s eta 0:00:01\r\u001b[K     |████████████▎                   | 634 kB 7.1 MB/s eta 0:00:01\r\u001b[K     |████████████▌                   | 645 kB 7.1 MB/s eta 0:00:01\r\u001b[K     |████████████▋                   | 655 kB 7.1 MB/s eta 0:00:01\r\u001b[K     |████████████▉                   | 665 kB 7.1 MB/s eta 0:00:01\r\u001b[K     |█████████████                   | 675 kB 7.1 MB/s eta 0:00:01\r\u001b[K     |█████████████▎                  | 686 kB 7.1 MB/s eta 0:00:01\r\u001b[K     |█████████████▍                  | 696 kB 7.1 MB/s eta 0:00:01\r\u001b[K     |█████████████▋                  | 706 kB 7.1 MB/s eta 0:00:01\r\u001b[K     |█████████████▉                  | 716 kB 7.1 MB/s eta 0:00:01\r\u001b[K     |██████████████                  | 727 kB 7.1 MB/s eta 0:00:01\r\u001b[K     |██████████████▎                 | 737 kB 7.1 MB/s eta 0:00:01\r\u001b[K     |██████████████▍                 | 747 kB 7.1 MB/s eta 0:00:01\r\u001b[K     |██████████████▋                 | 757 kB 7.1 MB/s eta 0:00:01\r\u001b[K     |██████████████▉                 | 768 kB 7.1 MB/s eta 0:00:01\r\u001b[K     |███████████████                 | 778 kB 7.1 MB/s eta 0:00:01\r\u001b[K     |███████████████▎                | 788 kB 7.1 MB/s eta 0:00:01\r\u001b[K     |███████████████▍                | 798 kB 7.1 MB/s eta 0:00:01\r\u001b[K     |███████████████▋                | 808 kB 7.1 MB/s eta 0:00:01\r\u001b[K     |███████████████▉                | 819 kB 7.1 MB/s eta 0:00:01\r\u001b[K     |████████████████                | 829 kB 7.1 MB/s eta 0:00:01\r\u001b[K     |████████████████▏               | 839 kB 7.1 MB/s eta 0:00:01\r\u001b[K     |████████████████▍               | 849 kB 7.1 MB/s eta 0:00:01\r\u001b[K     |████████████████▋               | 860 kB 7.1 MB/s eta 0:00:01\r\u001b[K     |████████████████▉               | 870 kB 7.1 MB/s eta 0:00:01\r\u001b[K     |█████████████████               | 880 kB 7.1 MB/s eta 0:00:01\r\u001b[K     |█████████████████▏              | 890 kB 7.1 MB/s eta 0:00:01\r\u001b[K     |█████████████████▍              | 901 kB 7.1 MB/s eta 0:00:01\r\u001b[K     |█████████████████▋              | 911 kB 7.1 MB/s eta 0:00:01\r\u001b[K     |█████████████████▉              | 921 kB 7.1 MB/s eta 0:00:01\r\u001b[K     |██████████████████              | 931 kB 7.1 MB/s eta 0:00:01\r\u001b[K     |██████████████████▏             | 942 kB 7.1 MB/s eta 0:00:01\r\u001b[K     |██████████████████▍             | 952 kB 7.1 MB/s eta 0:00:01\r\u001b[K     |██████████████████▋             | 962 kB 7.1 MB/s eta 0:00:01\r\u001b[K     |██████████████████▉             | 972 kB 7.1 MB/s eta 0:00:01\r\u001b[K     |███████████████████             | 983 kB 7.1 MB/s eta 0:00:01\r\u001b[K     |███████████████████▏            | 993 kB 7.1 MB/s eta 0:00:01\r\u001b[K     |███████████████████▍            | 1.0 MB 7.1 MB/s eta 0:00:01\r\u001b[K     |███████████████████▋            | 1.0 MB 7.1 MB/s eta 0:00:01\r\u001b[K     |███████████████████▊            | 1.0 MB 7.1 MB/s eta 0:00:01\r\u001b[K     |████████████████████            | 1.0 MB 7.1 MB/s eta 0:00:01\r\u001b[K     |████████████████████▏           | 1.0 MB 7.1 MB/s eta 0:00:01\r\u001b[K     |████████████████████▍           | 1.1 MB 7.1 MB/s eta 0:00:01\r\u001b[K     |████████████████████▋           | 1.1 MB 7.1 MB/s eta 0:00:01\r\u001b[K     |████████████████████▊           | 1.1 MB 7.1 MB/s eta 0:00:01\r\u001b[K     |█████████████████████           | 1.1 MB 7.1 MB/s eta 0:00:01\r\u001b[K     |█████████████████████▏          | 1.1 MB 7.1 MB/s eta 0:00:01\r\u001b[K     |█████████████████████▍          | 1.1 MB 7.1 MB/s eta 0:00:01\r\u001b[K     |█████████████████████▌          | 1.1 MB 7.1 MB/s eta 0:00:01\r\u001b[K     |█████████████████████▊          | 1.1 MB 7.1 MB/s eta 0:00:01\r\u001b[K     |██████████████████████          | 1.1 MB 7.1 MB/s eta 0:00:01\r\u001b[K     |██████████████████████▏         | 1.1 MB 7.1 MB/s eta 0:00:01\r\u001b[K     |██████████████████████▍         | 1.2 MB 7.1 MB/s eta 0:00:01\r\u001b[K     |██████████████████████▌         | 1.2 MB 7.1 MB/s eta 0:00:01\r\u001b[K     |██████████████████████▊         | 1.2 MB 7.1 MB/s eta 0:00:01\r\u001b[K     |███████████████████████         | 1.2 MB 7.1 MB/s eta 0:00:01\r\u001b[K     |███████████████████████▏        | 1.2 MB 7.1 MB/s eta 0:00:01\r\u001b[K     |███████████████████████▎        | 1.2 MB 7.1 MB/s eta 0:00:01\r\u001b[K     |███████████████████████▌        | 1.2 MB 7.1 MB/s eta 0:00:01\r\u001b[K     |███████████████████████▊        | 1.2 MB 7.1 MB/s eta 0:00:01\r\u001b[K     |████████████████████████        | 1.2 MB 7.1 MB/s eta 0:00:01\r\u001b[K     |████████████████████████▏       | 1.2 MB 7.1 MB/s eta 0:00:01\r\u001b[K     |████████████████████████▎       | 1.3 MB 7.1 MB/s eta 0:00:01\r\u001b[K     |████████████████████████▌       | 1.3 MB 7.1 MB/s eta 0:00:01\r\u001b[K     |████████████████████████▊       | 1.3 MB 7.1 MB/s eta 0:00:01\r\u001b[K     |█████████████████████████       | 1.3 MB 7.1 MB/s eta 0:00:01\r\u001b[K     |█████████████████████████       | 1.3 MB 7.1 MB/s eta 0:00:01\r\u001b[K     |█████████████████████████▎      | 1.3 MB 7.1 MB/s eta 0:00:01\r\u001b[K     |█████████████████████████▌      | 1.3 MB 7.1 MB/s eta 0:00:01\r\u001b[K     |█████████████████████████▊      | 1.3 MB 7.1 MB/s eta 0:00:01\r\u001b[K     |██████████████████████████      | 1.3 MB 7.1 MB/s eta 0:00:01\r\u001b[K     |██████████████████████████      | 1.4 MB 7.1 MB/s eta 0:00:01\r\u001b[K     |██████████████████████████▎     | 1.4 MB 7.1 MB/s eta 0:00:01\r\u001b[K     |██████████████████████████▌     | 1.4 MB 7.1 MB/s eta 0:00:01\r\u001b[K     |██████████████████████████▊     | 1.4 MB 7.1 MB/s eta 0:00:01\r\u001b[K     |██████████████████████████▉     | 1.4 MB 7.1 MB/s eta 0:00:01\r\u001b[K     |███████████████████████████     | 1.4 MB 7.1 MB/s eta 0:00:01\r\u001b[K     |███████████████████████████▎    | 1.4 MB 7.1 MB/s eta 0:00:01\r\u001b[K     |███████████████████████████▌    | 1.4 MB 7.1 MB/s eta 0:00:01\r\u001b[K     |███████████████████████████▊    | 1.4 MB 7.1 MB/s eta 0:00:01\r\u001b[K     |███████████████████████████▉    | 1.4 MB 7.1 MB/s eta 0:00:01\r\u001b[K     |████████████████████████████    | 1.5 MB 7.1 MB/s eta 0:00:01\r\u001b[K     |████████████████████████████▎   | 1.5 MB 7.1 MB/s eta 0:00:01\r\u001b[K     |████████████████████████████▌   | 1.5 MB 7.1 MB/s eta 0:00:01\r\u001b[K     |████████████████████████████▊   | 1.5 MB 7.1 MB/s eta 0:00:01\r\u001b[K     |████████████████████████████▉   | 1.5 MB 7.1 MB/s eta 0:00:01\r\u001b[K     |█████████████████████████████   | 1.5 MB 7.1 MB/s eta 0:00:01\r\u001b[K     |█████████████████████████████▎  | 1.5 MB 7.1 MB/s eta 0:00:01\r\u001b[K     |█████████████████████████████▌  | 1.5 MB 7.1 MB/s eta 0:00:01\r\u001b[K     |█████████████████████████████▋  | 1.5 MB 7.1 MB/s eta 0:00:01\r\u001b[K     |█████████████████████████████▉  | 1.5 MB 7.1 MB/s eta 0:00:01\r\u001b[K     |██████████████████████████████  | 1.6 MB 7.1 MB/s eta 0:00:01\r\u001b[K     |██████████████████████████████▎ | 1.6 MB 7.1 MB/s eta 0:00:01\r\u001b[K     |██████████████████████████████▌ | 1.6 MB 7.1 MB/s eta 0:00:01\r\u001b[K     |██████████████████████████████▋ | 1.6 MB 7.1 MB/s eta 0:00:01\r\u001b[K     |██████████████████████████████▉ | 1.6 MB 7.1 MB/s eta 0:00:01\r\u001b[K     |███████████████████████████████ | 1.6 MB 7.1 MB/s eta 0:00:01\r\u001b[K     |███████████████████████████████▎| 1.6 MB 7.1 MB/s eta 0:00:01\r\u001b[K     |███████████████████████████████▍| 1.6 MB 7.1 MB/s eta 0:00:01\r\u001b[K     |███████████████████████████████▋| 1.6 MB 7.1 MB/s eta 0:00:01\r\u001b[K     |███████████████████████████████▉| 1.6 MB 7.1 MB/s eta 0:00:01\r\u001b[K     |████████████████████████████████| 1.7 MB 7.1 MB/s \n",
            "\u001b[?25hRequirement already satisfied: PyYAML in /usr/local/lib/python3.7/dist-packages (from wandb) (3.13)\n",
            "Requirement already satisfied: python-dateutil>=2.6.1 in /usr/local/lib/python3.7/dist-packages (from wandb) (2.8.2)\n",
            "Collecting docker-pycreds>=0.4.0\n",
            "  Downloading docker_pycreds-0.4.0-py2.py3-none-any.whl (9.0 kB)\n",
            "Collecting configparser>=3.8.1\n",
            "  Downloading configparser-5.0.2-py3-none-any.whl (19 kB)\n",
            "Requirement already satisfied: promise<3,>=2.0 in /usr/local/lib/python3.7/dist-packages (from wandb) (2.3)\n",
            "Collecting sentry-sdk>=1.0.0\n",
            "  Downloading sentry_sdk-1.3.1-py2.py3-none-any.whl (133 kB)\n",
            "\u001b[K     |████████████████████████████████| 133 kB 48.7 MB/s \n",
            "\u001b[?25hCollecting subprocess32>=3.5.3\n",
            "  Downloading subprocess32-3.5.4.tar.gz (97 kB)\n",
            "\u001b[K     |████████████████████████████████| 97 kB 5.1 MB/s \n",
            "\u001b[?25hCollecting GitPython>=1.0.0\n",
            "  Downloading GitPython-3.1.18-py3-none-any.whl (170 kB)\n",
            "\u001b[K     |████████████████████████████████| 170 kB 52.9 MB/s \n",
            "\u001b[?25hRequirement already satisfied: requests<3,>=2.0.0 in /usr/local/lib/python3.7/dist-packages (from wandb) (2.23.0)\n",
            "Requirement already satisfied: psutil>=5.0.0 in /usr/local/lib/python3.7/dist-packages (from wandb) (5.4.8)\n",
            "Requirement already satisfied: protobuf>=3.12.0 in /usr/local/lib/python3.7/dist-packages (from wandb) (3.17.3)\n",
            "Collecting pathtools\n",
            "  Downloading pathtools-0.1.2.tar.gz (11 kB)\n",
            "Collecting shortuuid>=0.5.0\n",
            "  Downloading shortuuid-1.0.1-py3-none-any.whl (7.5 kB)\n",
            "Requirement already satisfied: Click!=8.0.0,>=7.0 in /usr/local/lib/python3.7/dist-packages (from wandb) (7.1.2)\n",
            "Requirement already satisfied: six>=1.13.0 in /usr/local/lib/python3.7/dist-packages (from wandb) (1.15.0)\n",
            "Collecting gitdb<5,>=4.0.1\n",
            "  Downloading gitdb-4.0.7-py3-none-any.whl (63 kB)\n",
            "\u001b[K     |████████████████████████████████| 63 kB 1.9 MB/s \n",
            "\u001b[?25hRequirement already satisfied: typing-extensions>=3.7.4.0 in /usr/local/lib/python3.7/dist-packages (from GitPython>=1.0.0->wandb) (3.7.4.3)\n",
            "Collecting smmap<5,>=3.0.1\n",
            "  Downloading smmap-4.0.0-py2.py3-none-any.whl (24 kB)\n",
            "Requirement already satisfied: idna<3,>=2.5 in /usr/local/lib/python3.7/dist-packages (from requests<3,>=2.0.0->wandb) (2.10)\n",
            "Requirement already satisfied: certifi>=2017.4.17 in /usr/local/lib/python3.7/dist-packages (from requests<3,>=2.0.0->wandb) (2021.5.30)\n",
            "Requirement already satisfied: chardet<4,>=3.0.2 in /usr/local/lib/python3.7/dist-packages (from requests<3,>=2.0.0->wandb) (3.0.4)\n",
            "Requirement already satisfied: urllib3!=1.25.0,!=1.25.1,<1.26,>=1.21.1 in /usr/local/lib/python3.7/dist-packages (from requests<3,>=2.0.0->wandb) (1.24.3)\n",
            "Building wheels for collected packages: subprocess32, pathtools\n",
            "  Building wheel for subprocess32 (setup.py) ... \u001b[?25l\u001b[?25hdone\n",
            "  Created wheel for subprocess32: filename=subprocess32-3.5.4-py3-none-any.whl size=6502 sha256=5b7076baea0835de576918b7f9dbd6d00894acaa6ba86bb2e6670508bb828353\n",
            "  Stored in directory: /root/.cache/pip/wheels/50/ca/fa/8fca8d246e64f19488d07567547ddec8eb084e8c0d7a59226a\n",
            "  Building wheel for pathtools (setup.py) ... \u001b[?25l\u001b[?25hdone\n",
            "  Created wheel for pathtools: filename=pathtools-0.1.2-py3-none-any.whl size=8807 sha256=caaa4e73d55a3b6ae61bec51828234be878cc30201029c5a98464eb18aa85532\n",
            "  Stored in directory: /root/.cache/pip/wheels/3e/31/09/fa59cef12cdcfecc627b3d24273699f390e71828921b2cbba2\n",
            "Successfully built subprocess32 pathtools\n",
            "Installing collected packages: smmap, gitdb, subprocess32, shortuuid, sentry-sdk, pathtools, GitPython, docker-pycreds, configparser, wandb\n",
            "Successfully installed GitPython-3.1.18 configparser-5.0.2 docker-pycreds-0.4.0 gitdb-4.0.7 pathtools-0.1.2 sentry-sdk-1.3.1 shortuuid-1.0.1 smmap-4.0.0 subprocess32-3.5.4 wandb-0.12.1\n",
            "Collecting playsound\n",
            "  Downloading playsound-1.3.0.tar.gz (7.7 kB)\n",
            "Building wheels for collected packages: playsound\n",
            "  Building wheel for playsound (setup.py) ... \u001b[?25l\u001b[?25hdone\n",
            "  Created wheel for playsound: filename=playsound-1.3.0-py3-none-any.whl size=7037 sha256=878b17c7aefbc1128975dba6d038c0801234b65864c474058e3bd22db332782b\n",
            "  Stored in directory: /root/.cache/pip/wheels/ba/f8/bb/ea57c0146b664dca3a0ada4199b0ecb5f9dfcb7b7e22b65ba2\n",
            "Successfully built playsound\n",
            "Installing collected packages: playsound\n",
            "Successfully installed playsound-1.3.0\n"
          ]
        }
      ]
    },
    {
      "cell_type": "code",
      "metadata": {
        "id": "W2-pD1Ru_KKW",
        "colab": {
          "base_uri": "https://localhost:8080/"
        },
        "outputId": "bfa38832-b1ba-4889-9b0a-6d33655afc32"
      },
      "source": [
        "import numpy as np \n",
        "import pandas as pd\n",
        "import os\n",
        "import glob\n",
        "import soundfile as sf\n",
        "import scipy.io.wavfile\n",
        "import scipy.signal as signal\n",
        "import matplotlib.pyplot as plt\n",
        "import pathlib\n",
        "import shutil\n",
        "import random\n",
        "import wandb\n",
        "from IPython.display import Audio\n",
        "from scipy.io import wavfile\n",
        "from playsound import playsound"
      ],
      "execution_count": 4,
      "outputs": [
        {
          "output_type": "stream",
          "name": "stderr",
          "text": [
            "playsound is relying on another python subprocess. Please use `pip install pygobject` if you want playsound to run more efficiently.\n"
          ]
        }
      ]
    },
    {
      "cell_type": "markdown",
      "metadata": {
        "id": "1kyhX7qcByjK"
      },
      "source": [
        "# Load the Data"
      ]
    },
    {
      "cell_type": "code",
      "metadata": {
        "id": "i2vt-3uIA2Hd"
      },
      "source": [
        "# Unzipping the file \n",
        "!unzip \"/content/drive/MyDrive/projectweeks/LA.zip\" "
      ],
      "execution_count": null,
      "outputs": []
    },
    {
      "cell_type": "code",
      "metadata": {
        "colab": {
          "base_uri": "https://localhost:8080/",
          "height": 634
        },
        "id": "PzJohNC3BGJj",
        "outputId": "2c0252b0-cab9-44e0-b2a1-f8c5577c7f77"
      },
      "source": [
        "# Initialize wandb\n",
        "wandb.login()\n",
        "wandb.init(project='DeepFake Audio Detection', entity='ruoro')\n"
      ],
      "execution_count": 5,
      "outputs": [
        {
          "output_type": "display_data",
          "data": {
            "application/javascript": [
              "\n",
              "        window._wandbApiKey = new Promise((resolve, reject) => {\n",
              "            function loadScript(url) {\n",
              "            return new Promise(function(resolve, reject) {\n",
              "                let newScript = document.createElement(\"script\");\n",
              "                newScript.onerror = reject;\n",
              "                newScript.onload = resolve;\n",
              "                document.body.appendChild(newScript);\n",
              "                newScript.src = url;\n",
              "            });\n",
              "            }\n",
              "            loadScript(\"https://cdn.jsdelivr.net/npm/postmate/build/postmate.min.js\").then(() => {\n",
              "            const iframe = document.createElement('iframe')\n",
              "            iframe.style.cssText = \"width:0;height:0;border:none\"\n",
              "            document.body.appendChild(iframe)\n",
              "            const handshake = new Postmate({\n",
              "                container: iframe,\n",
              "                url: 'https://wandb.ai/authorize'\n",
              "            });\n",
              "            const timeout = setTimeout(() => reject(\"Couldn't auto authenticate\"), 5000)\n",
              "            handshake.then(function(child) {\n",
              "                child.on('authorize', data => {\n",
              "                    clearTimeout(timeout)\n",
              "                    resolve(data)\n",
              "                });\n",
              "            });\n",
              "            })\n",
              "        });\n",
              "    "
            ],
            "text/plain": [
              "<IPython.core.display.Javascript object>"
            ]
          },
          "metadata": {}
        },
        {
          "output_type": "stream",
          "name": "stderr",
          "text": [
            "\u001b[34m\u001b[1mwandb\u001b[0m: Appending key for api.wandb.ai to your netrc file: /root/.netrc\n",
            "\u001b[34m\u001b[1mwandb\u001b[0m: Currently logged in as: \u001b[33mruoro\u001b[0m (use `wandb login --relogin` to force relogin)\n"
          ]
        },
        {
          "output_type": "display_data",
          "data": {
            "text/html": [
              "\n",
              "                Tracking run with wandb version 0.12.1<br/>\n",
              "                Syncing run <strong style=\"color:#cdcd00\">smart-gorge-3</strong> to <a href=\"https://wandb.ai\" target=\"_blank\">Weights & Biases</a> <a href=\"https://docs.wandb.com/integrations/jupyter.html\" target=\"_blank\">(Documentation)</a>.<br/>\n",
              "                Project page: <a href=\"https://wandb.ai/ruoro/DeepFake%20Audio%20Detection\" target=\"_blank\">https://wandb.ai/ruoro/DeepFake%20Audio%20Detection</a><br/>\n",
              "                Run page: <a href=\"https://wandb.ai/ruoro/DeepFake%20Audio%20Detection/runs/3fttlu3h\" target=\"_blank\">https://wandb.ai/ruoro/DeepFake%20Audio%20Detection/runs/3fttlu3h</a><br/>\n",
              "                Run data is saved locally in <code>/content/wandb/run-20210915_120027-3fttlu3h</code><br/><br/>\n",
              "            "
            ],
            "text/plain": [
              "<IPython.core.display.HTML object>"
            ]
          },
          "metadata": {}
        },
        {
          "output_type": "execute_result",
          "data": {
            "text/plain": [
              "<wandb.sdk.wandb_run.Run at 0x7f1c11774890>"
            ],
            "text/html": [
              "<h1>Run(3fttlu3h)</h1><iframe src=\"https://wandb.ai/ruoro/DeepFake%20Audio%20Detection/runs/3fttlu3h\" style=\"border:none;width:100%;height:400px\"></iframe>"
            ]
          },
          "metadata": {},
          "execution_count": 5
        }
      ]
    },
    {
      "cell_type": "code",
      "metadata": {
        "id": "1lo6kHykA2KJ",
        "colab": {
          "base_uri": "https://localhost:8080/",
          "height": 35
        },
        "outputId": "4af06225-dbc4-4cc2-daaa-5b0257b84a4b"
      },
      "source": [
        "# Checking the working directory \n",
        "os.getcwd()\n",
        "# Changing the Working Directory \n",
        "os.chdir(\"/content/LA\")\n",
        "# Confimation\n",
        "os.getcwd()"
      ],
      "execution_count": 6,
      "outputs": [
        {
          "output_type": "execute_result",
          "data": {
            "application/vnd.google.colaboratory.intrinsic+json": {
              "type": "string"
            },
            "text/plain": [
              "'/content/LA'"
            ]
          },
          "metadata": {},
          "execution_count": 6
        }
      ]
    },
    {
      "cell_type": "code",
      "metadata": {
        "id": "XEKMdtIYA2Mp",
        "colab": {
          "base_uri": "https://localhost:8080/",
          "height": 206
        },
        "outputId": "a3068423-514a-4b94-e165-17f47abb79cc"
      },
      "source": [
        "# Create the dataset \n",
        "df = pd.read_csv(\"/content/LA/ASVspoof2019_LA_cm_protocols/ASVspoof2019.LA.cm.dev.trl.txt\", sep = \" \", names =  (\"a\",\"id\",\"c\",\"fakeclass\",\"class\"))\n",
        "df.head()"
      ],
      "execution_count": 7,
      "outputs": [
        {
          "output_type": "execute_result",
          "data": {
            "text/html": [
              "<div>\n",
              "<style scoped>\n",
              "    .dataframe tbody tr th:only-of-type {\n",
              "        vertical-align: middle;\n",
              "    }\n",
              "\n",
              "    .dataframe tbody tr th {\n",
              "        vertical-align: top;\n",
              "    }\n",
              "\n",
              "    .dataframe thead th {\n",
              "        text-align: right;\n",
              "    }\n",
              "</style>\n",
              "<table border=\"1\" class=\"dataframe\">\n",
              "  <thead>\n",
              "    <tr style=\"text-align: right;\">\n",
              "      <th></th>\n",
              "      <th>a</th>\n",
              "      <th>id</th>\n",
              "      <th>c</th>\n",
              "      <th>fakeclass</th>\n",
              "      <th>class</th>\n",
              "    </tr>\n",
              "  </thead>\n",
              "  <tbody>\n",
              "    <tr>\n",
              "      <th>0</th>\n",
              "      <td>LA_0069</td>\n",
              "      <td>LA_D_1047731</td>\n",
              "      <td>-</td>\n",
              "      <td>-</td>\n",
              "      <td>bonafide</td>\n",
              "    </tr>\n",
              "    <tr>\n",
              "      <th>1</th>\n",
              "      <td>LA_0069</td>\n",
              "      <td>LA_D_1105538</td>\n",
              "      <td>-</td>\n",
              "      <td>-</td>\n",
              "      <td>bonafide</td>\n",
              "    </tr>\n",
              "    <tr>\n",
              "      <th>2</th>\n",
              "      <td>LA_0069</td>\n",
              "      <td>LA_D_1125976</td>\n",
              "      <td>-</td>\n",
              "      <td>-</td>\n",
              "      <td>bonafide</td>\n",
              "    </tr>\n",
              "    <tr>\n",
              "      <th>3</th>\n",
              "      <td>LA_0069</td>\n",
              "      <td>LA_D_1293230</td>\n",
              "      <td>-</td>\n",
              "      <td>-</td>\n",
              "      <td>bonafide</td>\n",
              "    </tr>\n",
              "    <tr>\n",
              "      <th>4</th>\n",
              "      <td>LA_0069</td>\n",
              "      <td>LA_D_1340209</td>\n",
              "      <td>-</td>\n",
              "      <td>-</td>\n",
              "      <td>bonafide</td>\n",
              "    </tr>\n",
              "  </tbody>\n",
              "</table>\n",
              "</div>"
            ],
            "text/plain": [
              "         a            id  c fakeclass     class\n",
              "0  LA_0069  LA_D_1047731  -         -  bonafide\n",
              "1  LA_0069  LA_D_1105538  -         -  bonafide\n",
              "2  LA_0069  LA_D_1125976  -         -  bonafide\n",
              "3  LA_0069  LA_D_1293230  -         -  bonafide\n",
              "4  LA_0069  LA_D_1340209  -         -  bonafide"
            ]
          },
          "metadata": {},
          "execution_count": 7
        }
      ]
    },
    {
      "cell_type": "markdown",
      "metadata": {
        "id": "FavIW_e8bQll"
      },
      "source": [
        "That means there is a lot of dissimilarity. But we need to separate the data ie the first bonafide and the spoof class\n"
      ]
    },
    {
      "cell_type": "code",
      "metadata": {
        "id": "Gp7360YTA2Wc",
        "colab": {
          "base_uri": "https://localhost:8080/"
        },
        "outputId": "1179c66d-7c7b-4d2c-d0d5-76d3d27e5897"
      },
      "source": [
        "df1 = df[df['fakeclass']== \"-\"]\n",
        "df1.shape"
      ],
      "execution_count": 8,
      "outputs": [
        {
          "output_type": "execute_result",
          "data": {
            "text/plain": [
              "(2548, 5)"
            ]
          },
          "metadata": {},
          "execution_count": 8
        }
      ]
    },
    {
      "cell_type": "code",
      "metadata": {
        "id": "9Ami8NSCcEI7"
      },
      "source": [
        "# so now that df1 is only the bonified data we can get "
      ],
      "execution_count": 9,
      "outputs": []
    },
    {
      "cell_type": "code",
      "metadata": {
        "id": "EwnESL9EX4zT"
      },
      "source": [
        "# Move all the real audio files in one location\n",
        "pathlib.Path(f'AudioSample/real').mkdir(parents = True ,exist_ok = True)\n",
        "real_audio = df1['id']\n",
        "\n",
        "#\n",
        "for file in real_audio:\n",
        "  file_name = os.path.join(\"/content/LA/ASVspoof2019_LA_dev/flac/\"+ file +\".flac\" )\n",
        "  if os.path.isfile(file_name):\n",
        "    # shutil.move(\"path/to/current/file\", \"path/to/new/destination/for/file\")\n",
        "    shutil.copy(file_name, '/content/LA/AudioSample/real')\n"
      ],
      "execution_count": 10,
      "outputs": []
    },
    {
      "cell_type": "code",
      "metadata": {
        "id": "mbTPUnC07-HI"
      },
      "source": [
        "# log the real audio samples on wandb \n",
        "# for loop "
      ],
      "execution_count": 11,
      "outputs": []
    },
    {
      "cell_type": "code",
      "metadata": {
        "id": "IrYqgpgEPTd_"
      },
      "source": [
        "# Sample . "
      ],
      "execution_count": 12,
      "outputs": []
    },
    {
      "cell_type": "code",
      "metadata": {
        "colab": {
          "base_uri": "https://localhost:8080/"
        },
        "id": "Y98RHPs8NSsl",
        "outputId": "a6c63de8-0ac8-4009-f4a1-82aface1813b"
      },
      "source": [
        "df3 = df[df['fakeclass'].isin(['A05', 'A06', 'A17', 'A18', 'A19'])]\n",
        "df3.shape"
      ],
      "execution_count": 13,
      "outputs": [
        {
          "output_type": "execute_result",
          "data": {
            "text/plain": [
              "(7432, 5)"
            ]
          },
          "metadata": {},
          "execution_count": 13
        }
      ]
    },
    {
      "cell_type": "code",
      "metadata": {
        "id": "ksutpIdEFPwa"
      },
      "source": [
        "# Move all the Vocoder synthesized audio files in one location\n",
        "pathlib.Path(f'AudioSample/voc').mkdir(parents = True ,exist_ok = True)\n",
        "name_of_audio = df3['id']\n",
        "\n",
        "#\n",
        "for file in name_of_audio:\n",
        "  file_name = os.path.join(\"/content/LA/ASVspoof2019_LA_dev/flac/\", file +\".flac\" )\n",
        "  if os.path.isfile(file_name):\n",
        "    shutil.copy(file_name, 'AudioSample/voc')"
      ],
      "execution_count": 14,
      "outputs": []
    },
    {
      "cell_type": "code",
      "metadata": {
        "id": "QzWUJJd5FPuH"
      },
      "source": [
        "# log inti wandb \n"
      ],
      "execution_count": 15,
      "outputs": []
    },
    {
      "cell_type": "code",
      "metadata": {
        "id": "UoiECGZiPbTZ"
      },
      "source": [
        "# sample"
      ],
      "execution_count": 16,
      "outputs": []
    },
    {
      "cell_type": "code",
      "metadata": {
        "colab": {
          "base_uri": "https://localhost:8080/",
          "height": 542
        },
        "id": "50R6fqctWPpa",
        "outputId": "c86355b9-ed43-447f-ae7b-a8c715bf48b2"
      },
      "source": [
        "import plotly.express as px\n",
        "import plotly.graph_objects as go\n",
        "\n",
        "# \n",
        "# clas = px.df['class'].value_counts()\n",
        "fig = go.Figure(data=[go.Pie(labels=['Spoof','Bonafide'],\n",
        "                             values=[2548,22296])])\n",
        "fig.update_traces(hoverinfo='label+percent', textinfo='value+label', textfont_size=15,\n",
        "                  marker=dict(line=dict(color='#000000', width=2)))\n",
        "fig.show()"
      ],
      "execution_count": 43,
      "outputs": [
        {
          "output_type": "display_data",
          "data": {
            "text/html": [
              "<html>\n",
              "<head><meta charset=\"utf-8\" /></head>\n",
              "<body>\n",
              "    <div>\n",
              "            <script src=\"https://cdnjs.cloudflare.com/ajax/libs/mathjax/2.7.5/MathJax.js?config=TeX-AMS-MML_SVG\"></script><script type=\"text/javascript\">if (window.MathJax) {MathJax.Hub.Config({SVG: {font: \"STIX-Web\"}});}</script>\n",
              "                <script type=\"text/javascript\">window.PlotlyConfig = {MathJaxConfig: 'local'};</script>\n",
              "        <script src=\"https://cdn.plot.ly/plotly-latest.min.js\"></script>    \n",
              "            <div id=\"3656b923-dbce-479e-a2b6-6ef75d6dc9f6\" class=\"plotly-graph-div\" style=\"height:525px; width:100%;\"></div>\n",
              "            <script type=\"text/javascript\">\n",
              "                \n",
              "                    window.PLOTLYENV=window.PLOTLYENV || {};\n",
              "                    \n",
              "                if (document.getElementById(\"3656b923-dbce-479e-a2b6-6ef75d6dc9f6\")) {\n",
              "                    Plotly.newPlot(\n",
              "                        '3656b923-dbce-479e-a2b6-6ef75d6dc9f6',\n",
              "                        [{\"hoverinfo\": \"label+percent\", \"labels\": [\"Spoof\", \"Bonafide\"], \"marker\": {\"line\": {\"color\": \"#000000\", \"width\": 2}}, \"textfont\": {\"size\": 15}, \"textinfo\": \"value+label\", \"type\": \"pie\", \"values\": [2548, 22296]}],\n",
              "                        {\"template\": {\"data\": {\"bar\": [{\"error_x\": {\"color\": \"#2a3f5f\"}, \"error_y\": {\"color\": \"#2a3f5f\"}, \"marker\": {\"line\": {\"color\": \"#E5ECF6\", \"width\": 0.5}}, \"type\": \"bar\"}], \"barpolar\": [{\"marker\": {\"line\": {\"color\": \"#E5ECF6\", \"width\": 0.5}}, \"type\": \"barpolar\"}], \"carpet\": [{\"aaxis\": {\"endlinecolor\": \"#2a3f5f\", \"gridcolor\": \"white\", \"linecolor\": \"white\", \"minorgridcolor\": \"white\", \"startlinecolor\": \"#2a3f5f\"}, \"baxis\": {\"endlinecolor\": \"#2a3f5f\", \"gridcolor\": \"white\", \"linecolor\": \"white\", \"minorgridcolor\": \"white\", \"startlinecolor\": \"#2a3f5f\"}, \"type\": \"carpet\"}], \"choropleth\": [{\"colorbar\": {\"outlinewidth\": 0, \"ticks\": \"\"}, \"type\": \"choropleth\"}], \"contour\": [{\"colorbar\": {\"outlinewidth\": 0, \"ticks\": \"\"}, \"colorscale\": [[0.0, \"#0d0887\"], [0.1111111111111111, \"#46039f\"], [0.2222222222222222, \"#7201a8\"], [0.3333333333333333, \"#9c179e\"], [0.4444444444444444, \"#bd3786\"], [0.5555555555555556, \"#d8576b\"], [0.6666666666666666, \"#ed7953\"], [0.7777777777777778, \"#fb9f3a\"], [0.8888888888888888, \"#fdca26\"], [1.0, \"#f0f921\"]], \"type\": \"contour\"}], \"contourcarpet\": [{\"colorbar\": {\"outlinewidth\": 0, \"ticks\": \"\"}, \"type\": \"contourcarpet\"}], \"heatmap\": [{\"colorbar\": {\"outlinewidth\": 0, \"ticks\": \"\"}, \"colorscale\": [[0.0, \"#0d0887\"], [0.1111111111111111, \"#46039f\"], [0.2222222222222222, \"#7201a8\"], [0.3333333333333333, \"#9c179e\"], [0.4444444444444444, \"#bd3786\"], [0.5555555555555556, \"#d8576b\"], [0.6666666666666666, \"#ed7953\"], [0.7777777777777778, \"#fb9f3a\"], [0.8888888888888888, \"#fdca26\"], [1.0, \"#f0f921\"]], \"type\": \"heatmap\"}], \"heatmapgl\": [{\"colorbar\": {\"outlinewidth\": 0, \"ticks\": \"\"}, \"colorscale\": [[0.0, \"#0d0887\"], [0.1111111111111111, \"#46039f\"], [0.2222222222222222, \"#7201a8\"], [0.3333333333333333, \"#9c179e\"], [0.4444444444444444, \"#bd3786\"], [0.5555555555555556, \"#d8576b\"], [0.6666666666666666, \"#ed7953\"], [0.7777777777777778, \"#fb9f3a\"], [0.8888888888888888, \"#fdca26\"], [1.0, \"#f0f921\"]], \"type\": \"heatmapgl\"}], \"histogram\": [{\"marker\": {\"colorbar\": {\"outlinewidth\": 0, \"ticks\": \"\"}}, \"type\": \"histogram\"}], \"histogram2d\": [{\"colorbar\": {\"outlinewidth\": 0, \"ticks\": \"\"}, \"colorscale\": [[0.0, \"#0d0887\"], [0.1111111111111111, \"#46039f\"], [0.2222222222222222, \"#7201a8\"], [0.3333333333333333, \"#9c179e\"], [0.4444444444444444, \"#bd3786\"], [0.5555555555555556, \"#d8576b\"], [0.6666666666666666, \"#ed7953\"], [0.7777777777777778, \"#fb9f3a\"], [0.8888888888888888, \"#fdca26\"], [1.0, \"#f0f921\"]], \"type\": \"histogram2d\"}], \"histogram2dcontour\": [{\"colorbar\": {\"outlinewidth\": 0, \"ticks\": \"\"}, \"colorscale\": [[0.0, \"#0d0887\"], [0.1111111111111111, \"#46039f\"], [0.2222222222222222, \"#7201a8\"], [0.3333333333333333, \"#9c179e\"], [0.4444444444444444, \"#bd3786\"], [0.5555555555555556, \"#d8576b\"], [0.6666666666666666, \"#ed7953\"], [0.7777777777777778, \"#fb9f3a\"], [0.8888888888888888, \"#fdca26\"], [1.0, \"#f0f921\"]], \"type\": \"histogram2dcontour\"}], \"mesh3d\": [{\"colorbar\": {\"outlinewidth\": 0, \"ticks\": \"\"}, \"type\": \"mesh3d\"}], \"parcoords\": [{\"line\": {\"colorbar\": {\"outlinewidth\": 0, \"ticks\": \"\"}}, \"type\": \"parcoords\"}], \"pie\": [{\"automargin\": true, \"type\": \"pie\"}], \"scatter\": [{\"marker\": {\"colorbar\": {\"outlinewidth\": 0, \"ticks\": \"\"}}, \"type\": \"scatter\"}], \"scatter3d\": [{\"line\": {\"colorbar\": {\"outlinewidth\": 0, \"ticks\": \"\"}}, \"marker\": {\"colorbar\": {\"outlinewidth\": 0, \"ticks\": \"\"}}, \"type\": \"scatter3d\"}], \"scattercarpet\": [{\"marker\": {\"colorbar\": {\"outlinewidth\": 0, \"ticks\": \"\"}}, \"type\": \"scattercarpet\"}], \"scattergeo\": [{\"marker\": {\"colorbar\": {\"outlinewidth\": 0, \"ticks\": \"\"}}, \"type\": \"scattergeo\"}], \"scattergl\": [{\"marker\": {\"colorbar\": {\"outlinewidth\": 0, \"ticks\": \"\"}}, \"type\": \"scattergl\"}], \"scattermapbox\": [{\"marker\": {\"colorbar\": {\"outlinewidth\": 0, \"ticks\": \"\"}}, \"type\": \"scattermapbox\"}], \"scatterpolar\": [{\"marker\": {\"colorbar\": {\"outlinewidth\": 0, \"ticks\": \"\"}}, \"type\": \"scatterpolar\"}], \"scatterpolargl\": [{\"marker\": {\"colorbar\": {\"outlinewidth\": 0, \"ticks\": \"\"}}, \"type\": \"scatterpolargl\"}], \"scatterternary\": [{\"marker\": {\"colorbar\": {\"outlinewidth\": 0, \"ticks\": \"\"}}, \"type\": \"scatterternary\"}], \"surface\": [{\"colorbar\": {\"outlinewidth\": 0, \"ticks\": \"\"}, \"colorscale\": [[0.0, \"#0d0887\"], [0.1111111111111111, \"#46039f\"], [0.2222222222222222, \"#7201a8\"], [0.3333333333333333, \"#9c179e\"], [0.4444444444444444, \"#bd3786\"], [0.5555555555555556, \"#d8576b\"], [0.6666666666666666, \"#ed7953\"], [0.7777777777777778, \"#fb9f3a\"], [0.8888888888888888, \"#fdca26\"], [1.0, \"#f0f921\"]], \"type\": \"surface\"}], \"table\": [{\"cells\": {\"fill\": {\"color\": \"#EBF0F8\"}, \"line\": {\"color\": \"white\"}}, \"header\": {\"fill\": {\"color\": \"#C8D4E3\"}, \"line\": {\"color\": \"white\"}}, \"type\": \"table\"}]}, \"layout\": {\"annotationdefaults\": {\"arrowcolor\": \"#2a3f5f\", \"arrowhead\": 0, \"arrowwidth\": 1}, \"coloraxis\": {\"colorbar\": {\"outlinewidth\": 0, \"ticks\": \"\"}}, \"colorscale\": {\"diverging\": [[0, \"#8e0152\"], [0.1, \"#c51b7d\"], [0.2, \"#de77ae\"], [0.3, \"#f1b6da\"], [0.4, \"#fde0ef\"], [0.5, \"#f7f7f7\"], [0.6, \"#e6f5d0\"], [0.7, \"#b8e186\"], [0.8, \"#7fbc41\"], [0.9, \"#4d9221\"], [1, \"#276419\"]], \"sequential\": [[0.0, \"#0d0887\"], [0.1111111111111111, \"#46039f\"], [0.2222222222222222, \"#7201a8\"], [0.3333333333333333, \"#9c179e\"], [0.4444444444444444, \"#bd3786\"], [0.5555555555555556, \"#d8576b\"], [0.6666666666666666, \"#ed7953\"], [0.7777777777777778, \"#fb9f3a\"], [0.8888888888888888, \"#fdca26\"], [1.0, \"#f0f921\"]], \"sequentialminus\": [[0.0, \"#0d0887\"], [0.1111111111111111, \"#46039f\"], [0.2222222222222222, \"#7201a8\"], [0.3333333333333333, \"#9c179e\"], [0.4444444444444444, \"#bd3786\"], [0.5555555555555556, \"#d8576b\"], [0.6666666666666666, \"#ed7953\"], [0.7777777777777778, \"#fb9f3a\"], [0.8888888888888888, \"#fdca26\"], [1.0, \"#f0f921\"]]}, \"colorway\": [\"#636efa\", \"#EF553B\", \"#00cc96\", \"#ab63fa\", \"#FFA15A\", \"#19d3f3\", \"#FF6692\", \"#B6E880\", \"#FF97FF\", \"#FECB52\"], \"font\": {\"color\": \"#2a3f5f\"}, \"geo\": {\"bgcolor\": \"white\", \"lakecolor\": \"white\", \"landcolor\": \"#E5ECF6\", \"showlakes\": true, \"showland\": true, \"subunitcolor\": \"white\"}, \"hoverlabel\": {\"align\": \"left\"}, \"hovermode\": \"closest\", \"mapbox\": {\"style\": \"light\"}, \"paper_bgcolor\": \"white\", \"plot_bgcolor\": \"#E5ECF6\", \"polar\": {\"angularaxis\": {\"gridcolor\": \"white\", \"linecolor\": \"white\", \"ticks\": \"\"}, \"bgcolor\": \"#E5ECF6\", \"radialaxis\": {\"gridcolor\": \"white\", \"linecolor\": \"white\", \"ticks\": \"\"}}, \"scene\": {\"xaxis\": {\"backgroundcolor\": \"#E5ECF6\", \"gridcolor\": \"white\", \"gridwidth\": 2, \"linecolor\": \"white\", \"showbackground\": true, \"ticks\": \"\", \"zerolinecolor\": \"white\"}, \"yaxis\": {\"backgroundcolor\": \"#E5ECF6\", \"gridcolor\": \"white\", \"gridwidth\": 2, \"linecolor\": \"white\", \"showbackground\": true, \"ticks\": \"\", \"zerolinecolor\": \"white\"}, \"zaxis\": {\"backgroundcolor\": \"#E5ECF6\", \"gridcolor\": \"white\", \"gridwidth\": 2, \"linecolor\": \"white\", \"showbackground\": true, \"ticks\": \"\", \"zerolinecolor\": \"white\"}}, \"shapedefaults\": {\"line\": {\"color\": \"#2a3f5f\"}}, \"ternary\": {\"aaxis\": {\"gridcolor\": \"white\", \"linecolor\": \"white\", \"ticks\": \"\"}, \"baxis\": {\"gridcolor\": \"white\", \"linecolor\": \"white\", \"ticks\": \"\"}, \"bgcolor\": \"#E5ECF6\", \"caxis\": {\"gridcolor\": \"white\", \"linecolor\": \"white\", \"ticks\": \"\"}}, \"title\": {\"x\": 0.05}, \"xaxis\": {\"automargin\": true, \"gridcolor\": \"white\", \"linecolor\": \"white\", \"ticks\": \"\", \"title\": {\"standoff\": 15}, \"zerolinecolor\": \"white\", \"zerolinewidth\": 2}, \"yaxis\": {\"automargin\": true, \"gridcolor\": \"white\", \"linecolor\": \"white\", \"ticks\": \"\", \"title\": {\"standoff\": 15}, \"zerolinecolor\": \"white\", \"zerolinewidth\": 2}}}},\n",
              "                        {\"responsive\": true}\n",
              "                    ).then(function(){\n",
              "                            \n",
              "var gd = document.getElementById('3656b923-dbce-479e-a2b6-6ef75d6dc9f6');\n",
              "var x = new MutationObserver(function (mutations, observer) {{\n",
              "        var display = window.getComputedStyle(gd).display;\n",
              "        if (!display || display === 'none') {{\n",
              "            console.log([gd, 'removed!']);\n",
              "            Plotly.purge(gd);\n",
              "            observer.disconnect();\n",
              "        }}\n",
              "}});\n",
              "\n",
              "// Listen for the removal of the full notebook cells\n",
              "var notebookContainer = gd.closest('#notebook-container');\n",
              "if (notebookContainer) {{\n",
              "    x.observe(notebookContainer, {childList: true});\n",
              "}}\n",
              "\n",
              "// Listen for the clearing of the current output cell\n",
              "var outputEl = gd.closest('.output');\n",
              "if (outputEl) {{\n",
              "    x.observe(outputEl, {childList: true});\n",
              "}}\n",
              "\n",
              "                        })\n",
              "                };\n",
              "                \n",
              "            </script>\n",
              "        </div>\n",
              "</body>\n",
              "</html>"
            ]
          },
          "metadata": {}
        }
      ]
    },
    {
      "cell_type": "markdown",
      "metadata": {
        "id": "V3Sn2wwUZFpr"
      },
      "source": [
        "There is a lot of Data that is spoofed so we will have to segment it. "
      ]
    },
    {
      "cell_type": "code",
      "metadata": {
        "id": "RlBdXYpfA2PG",
        "colab": {
          "base_uri": "https://localhost:8080/"
        },
        "outputId": "27af051e-d338-4ef6-bc99-c5923f6e2f64"
      },
      "source": [
        "# Finding out the number of classes in the data\n",
        "df['class'].value_counts()"
      ],
      "execution_count": 34,
      "outputs": [
        {
          "output_type": "execute_result",
          "data": {
            "text/plain": [
              "spoof       22296\n",
              "bonafide     2548\n",
              "Name: class, dtype: int64"
            ]
          },
          "metadata": {},
          "execution_count": 34
        }
      ]
    },
    {
      "cell_type": "code",
      "metadata": {
        "colab": {
          "base_uri": "https://localhost:8080/"
        },
        "id": "xmq1xmDrFPmi",
        "outputId": "303d522c-7106-41fe-8ec5-bbf56e4e3a18"
      },
      "source": [
        "fakeclass = df['fakeclass'].value_counts()\n",
        "fakeclass.to_dict()"
      ],
      "execution_count": 46,
      "outputs": [
        {
          "output_type": "execute_result",
          "data": {
            "text/plain": [
              "{'-': 2548,\n",
              " 'A01': 3716,\n",
              " 'A02': 3716,\n",
              " 'A03': 3716,\n",
              " 'A04': 3716,\n",
              " 'A05': 3716,\n",
              " 'A06': 3716}"
            ]
          },
          "metadata": {},
          "execution_count": 46
        }
      ]
    },
    {
      "cell_type": "code",
      "metadata": {
        "id": "A3u16DOgZ3hi"
      },
      "source": [
        "import plotly.graph_objects as go\n",
        "fig = go.Figure(data=[go.Pie(fakeclass.to_dict)])\n",
        "#fig.update_traces(hoverinfo='label+percent', textinfo='value+label', textfont_size=15,\n",
        " #                 marker=dict(line=dict(color='#000000', width=2)))\n",
        "fig.show()"
      ],
      "execution_count": null,
      "outputs": []
    },
    {
      "cell_type": "code",
      "metadata": {
        "colab": {
          "base_uri": "https://localhost:8080/",
          "height": 75
        },
        "id": "wuB7_F2UFPkH",
        "outputId": "bc83ca1e-7c9a-4691-d7c4-1867cc2d8db0"
      },
      "source": [
        "Audio(\"/content/LA/AudioSample/real/LA_D_1024892.flac\")"
      ],
      "execution_count": 22,
      "outputs": [
        {
          "output_type": "execute_result",
          "data": {
            "text/html": [
              "\n",
              "                <audio controls=\"controls\" >\n",
              "                    <source src=\"data:audio/flac;base64,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\" type=\"audio/flac\" />\n",
              "                    Your browser does not support the audio element.\n",
              "                </audio>\n",
              "              "
            ],
            "text/plain": [
              "<IPython.lib.display.Audio object>"
            ]
          },
          "metadata": {},
          "execution_count": 22
        }
      ]
    },
    {
      "cell_type": "code",
      "metadata": {
        "id": "TmxjqCAdFPhi"
      },
      "source": [
        ""
      ],
      "execution_count": null,
      "outputs": []
    }
  ]
}
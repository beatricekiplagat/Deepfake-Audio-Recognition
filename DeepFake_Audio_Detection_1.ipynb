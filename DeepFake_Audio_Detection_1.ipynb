{
  "nbformat": 4,
  "nbformat_minor": 0,
  "metadata": {
    "colab": {
      "name": "DeepFake_Audio_Detection_1.ipynb",
      "provenance": [],
      "collapsed_sections": [],
      "include_colab_link": true
    },
    "kernelspec": {
      "name": "python3",
      "display_name": "Python 3"
    },
    "language_info": {
      "name": "python"
    },
    "accelerator": "GPU"
  },
  "cells": [
    {
      "cell_type": "markdown",
      "metadata": {
        "id": "view-in-github",
        "colab_type": "text"
      },
      "source": [
        "<a href=\"https://colab.research.google.com/github/beatricekiplagat/Deepfake-Audio-Recognition/blob/main/DeepFake_Audio_Detection_1.ipynb\" target=\"_parent\"><img src=\"https://colab.research.google.com/assets/colab-badge.svg\" alt=\"Open In Colab\"/></a>"
      ]
    },
    {
      "cell_type": "markdown",
      "metadata": {
        "id": "dDp3TyhfBhz0"
      },
      "source": [
        "# DEEPFAKE AUDIO DETECTION"
      ]
    },
    {
      "cell_type": "markdown",
      "metadata": {
        "id": "cdo8J8uu6SAL"
      },
      "source": [
        "Workflow\n",
        "1. Load the dataset \n",
        "2. preprocessing - listen to the samples (real and spoofed)\n",
        "3. convert into spectrogram then to mel spectrogram \n",
        "4. choose a suitable sample\n",
        "5. create a model \n",
        "- Pre-Trained Models for Image Classification\n",
        "VGG-16 - research on all of these\n",
        "ResNet50\n",
        "Inceptionv3\n",
        "EfficientNet\n",
        "6. Fine tune the model\n",
        "6. deploy it on website\n",
        "\n",
        " "
      ]
    },
    {
      "cell_type": "markdown",
      "metadata": {
        "id": "nDVCXZk2BpC9"
      },
      "source": [
        "# Importing Libraries"
      ]
    },
    {
      "cell_type": "code",
      "metadata": {

        "colab": {
          "base_uri": "https://localhost:8080/"
        },
        "id": "3-sLxCMVM4Fo",
        "outputId": "c7ee9452-8945-4999-9ca8-967706501029"
      },
      "source": [
        "!pip install wandb\n",
        "!pip install playsound"
      ],
      "execution_count": null,
      "outputs": []
    },
    {
      "cell_type": "code",
      "metadata": {
        "id": "W2-pD1Ru_KKW",
        "colab": {
          "base_uri": "https://localhost:8080/"
        },
        "outputId": "39ea5c32-13ba-474a-cf99-e581783d38d4"
      },
      "source": [
        "import numpy as np \n",
        "import pandas as pd\n",
        "import os\n",
        "import glob\n",
        "import soundfile as sf\n",
        "import scipy.io.wavfile\n",
        "import scipy.signal as signal\n",
        "import matplotlib.pyplot as plt\n",
        "import pathlib\n",
        "import shutil\n",
        "import random\n",
        "import wandb\n",
        "from IPython.display import Audio\n",
        "from scipy.io import wavfile\n",
        "from playsound import playsound\n",
        "import librosa\n",
        "import librosa.display"
      ],
      "execution_count": null,
      "outputs": [
        {
          "output_type": "stream",
          "name": "stderr",
          "text": [
            "playsound is relying on another python subprocess. Please use `pip install pygobject` if you want playsound to run more efficiently.\n"
          ]
        }
      ]
    },
    {
      "cell_type": "markdown",
      "metadata": {
        "id": "1kyhX7qcByjK"
      },
      "source": [
        "# Load the Data"
      ]
    },
    {
      "cell_type": "code",
      "metadata": {
        "id": "i2vt-3uIA2Hd",
        "colab": {
          "base_uri": "https://localhost:8080/"
        },
        "outputId": "e0a3b678-915d-47d4-ccd9-c9a02dfc31b6"
      },
      "source": [
        "# Unzipping the file \n",
        "!unzip \"/content/drive/MyDrive/projectweeks/LA.zip\" "
      ],
      "execution_count": null,
      "outputs": []
    },
    {
      "cell_type": "code",
      "metadata": {
        "colab": {
          "base_uri": "https://localhost:8080/",
          "height": 634
        },
        "id": "PzJohNC3BGJj",
        "outputId": "10f9f2ac-5821-4d95-ac99-fc18f43fb113"
      },
      "source": [
        "# Initialize wandb\n",
        "wandb.login()\n",
        "wandb.init(project='DeepFake Audio Detection', entity='ruoro')\n"
      ],
      "execution_count": null,
      "outputs": [
        {
          "output_type": "display_data",
          "data": {
            "application/javascript": [
              "\n",
              "        window._wandbApiKey = new Promise((resolve, reject) => {\n",
              "            function loadScript(url) {\n",
              "            return new Promise(function(resolve, reject) {\n",
              "                let newScript = document.createElement(\"script\");\n",
              "                newScript.onerror = reject;\n",
              "                newScript.onload = resolve;\n",
              "                document.body.appendChild(newScript);\n",
              "                newScript.src = url;\n",
              "            });\n",
              "            }\n",
              "            loadScript(\"https://cdn.jsdelivr.net/npm/postmate/build/postmate.min.js\").then(() => {\n",
              "            const iframe = document.createElement('iframe')\n",
              "            iframe.style.cssText = \"width:0;height:0;border:none\"\n",
              "            document.body.appendChild(iframe)\n",
              "            const handshake = new Postmate({\n",
              "                container: iframe,\n",
              "                url: 'https://wandb.ai/authorize'\n",
              "            });\n",
              "            const timeout = setTimeout(() => reject(\"Couldn't auto authenticate\"), 5000)\n",
              "            handshake.then(function(child) {\n",
              "                child.on('authorize', data => {\n",
              "                    clearTimeout(timeout)\n",
              "                    resolve(data)\n",
              "                });\n",
              "            });\n",
              "            })\n",
              "        });\n",
              "    "
            ],
            "text/plain": [
              "<IPython.core.display.Javascript object>"
            ]
          },
          "metadata": {}
        },
        {
          "output_type": "stream",
          "name": "stderr",
          "text": [
            "\u001b[34m\u001b[1mwandb\u001b[0m: Appending key for api.wandb.ai to your netrc file: /root/.netrc\n",
            "\u001b[34m\u001b[1mwandb\u001b[0m: Currently logged in as: \u001b[33mruoro\u001b[0m (use `wandb login --relogin` to force relogin)\n"
          ]
        },
        {
          "output_type": "display_data",
          "data": {
            "text/html": [
              "\n",
              "                Tracking run with wandb version 0.12.2<br/>\n",
              "                Syncing run <strong style=\"color:#cdcd00\">wandering-voice-9</strong> to <a href=\"https://wandb.ai\" target=\"_blank\">Weights & Biases</a> <a href=\"https://docs.wandb.com/integrations/jupyter.html\" target=\"_blank\">(Documentation)</a>.<br/>\n",
              "                Project page: <a href=\"https://wandb.ai/ruoro/DeepFake%20Audio%20Detection\" target=\"_blank\">https://wandb.ai/ruoro/DeepFake%20Audio%20Detection</a><br/>\n",
              "                Run page: <a href=\"https://wandb.ai/ruoro/DeepFake%20Audio%20Detection/runs/2bgz9fz9\" target=\"_blank\">https://wandb.ai/ruoro/DeepFake%20Audio%20Detection/runs/2bgz9fz9</a><br/>\n",
              "                Run data is saved locally in <code>/content/wandb/run-20210916_150501-2bgz9fz9</code><br/><br/>\n",
              "            "
            ],
            "text/plain": [
              "<IPython.core.display.HTML object>"
            ]
          },
          "metadata": {}
        },
        {
          "output_type": "execute_result",
          "data": {
            "text/plain": [
              "<wandb.sdk.wandb_run.Run at 0x7fd279f32510>"
            ],
            "text/html": [
              "<h1>Run(2bgz9fz9)</h1><iframe src=\"https://wandb.ai/ruoro/DeepFake%20Audio%20Detection/runs/2bgz9fz9\" style=\"border:none;width:100%;height:400px\"></iframe>"
            ]
          },
          "metadata": {},
          "execution_count": 4
        }
      ]
    },
    {
      "cell_type": "code",
      "metadata": {
        "id": "1lo6kHykA2KJ",
        "colab": {
          "base_uri": "https://localhost:8080/",
          "height": 35
        },
        "outputId": "e53814c5-95a3-4032-b980-df12615ff384"
      },
      "source": [
        "# Checking the working directory \n",
        "os.getcwd()\n",
        "# Changing the Working Directory \n",
        "os.chdir(\"/content/LA\")\n",
        "# Confimation\n",
        "os.getcwd()"
      ],
      "execution_count": null,
      "outputs": [
        {
          "output_type": "execute_result",
          "data": {
            "application/vnd.google.colaboratory.intrinsic+json": {
              "type": "string"
            },
            "text/plain": [
              "'/content/LA'"
            ]
          },
          "metadata": {},
          "execution_count": 4
        }
      ]
    },
    {
      "cell_type": "code",
      "metadata": {
        "id": "XEKMdtIYA2Mp",
        "colab": {
          "base_uri": "https://localhost:8080/",
          "height": 206
        },
        "outputId": "237562c1-5326-4bd1-f410-14ead8a29018"
      },
      "source": [
        "# Create the dataset \n",
        "df = pd.read_csv(\"/content/LA/ASVspoof2019_LA_cm_protocols/ASVspoof2019.LA.cm.dev.trl.txt\", sep = \" \", names =  (\"a\",\"id\",\"c\",\"fakeclass\",\"class\"))\n",
        "df.head()"
      ],
      "execution_count": null,
      "outputs": [
        {
          "output_type": "execute_result",
          "data": {
            "text/html": [
              "<div>\n",
              "<style scoped>\n",
              "    .dataframe tbody tr th:only-of-type {\n",
              "        vertical-align: middle;\n",
              "    }\n",
              "\n",
              "    .dataframe tbody tr th {\n",
              "        vertical-align: top;\n",
              "    }\n",
              "\n",
              "    .dataframe thead th {\n",
              "        text-align: right;\n",
              "    }\n",
              "</style>\n",
              "<table border=\"1\" class=\"dataframe\">\n",
              "  <thead>\n",
              "    <tr style=\"text-align: right;\">\n",
              "      <th></th>\n",
              "      <th>a</th>\n",
              "      <th>id</th>\n",
              "      <th>c</th>\n",
              "      <th>fakeclass</th>\n",
              "      <th>class</th>\n",
              "    </tr>\n",
              "  </thead>\n",
              "  <tbody>\n",
              "    <tr>\n",
              "      <th>0</th>\n",
              "      <td>LA_0069</td>\n",
              "      <td>LA_D_1047731</td>\n",
              "      <td>-</td>\n",
              "      <td>-</td>\n",
              "      <td>bonafide</td>\n",
              "    </tr>\n",
              "    <tr>\n",
              "      <th>1</th>\n",
              "      <td>LA_0069</td>\n",
              "      <td>LA_D_1105538</td>\n",
              "      <td>-</td>\n",
              "      <td>-</td>\n",
              "      <td>bonafide</td>\n",
              "    </tr>\n",
              "    <tr>\n",
              "      <th>2</th>\n",
              "      <td>LA_0069</td>\n",
              "      <td>LA_D_1125976</td>\n",
              "      <td>-</td>\n",
              "      <td>-</td>\n",
              "      <td>bonafide</td>\n",
              "    </tr>\n",
              "    <tr>\n",
              "      <th>3</th>\n",
              "      <td>LA_0069</td>\n",
              "      <td>LA_D_1293230</td>\n",
              "      <td>-</td>\n",
              "      <td>-</td>\n",
              "      <td>bonafide</td>\n",
              "    </tr>\n",
              "    <tr>\n",
              "      <th>4</th>\n",
              "      <td>LA_0069</td>\n",
              "      <td>LA_D_1340209</td>\n",
              "      <td>-</td>\n",
              "      <td>-</td>\n",
              "      <td>bonafide</td>\n",
              "    </tr>\n",
              "  </tbody>\n",
              "</table>\n",
              "</div>"
            ],
            "text/plain": [
              "         a            id  c fakeclass     class\n",
              "0  LA_0069  LA_D_1047731  -         -  bonafide\n",
              "1  LA_0069  LA_D_1105538  -         -  bonafide\n",
              "2  LA_0069  LA_D_1125976  -         -  bonafide\n",
              "3  LA_0069  LA_D_1293230  -         -  bonafide\n",
              "4  LA_0069  LA_D_1340209  -         -  bonafide"
            ]
          },
          "metadata": {},
          "execution_count": 5
        }
      ]
    },
    {
      "cell_type": "code",
      "metadata": {
        "colab": {
          "base_uri": "https://localhost:8080/"
        },
        "id": "_oTR_a7jn7P6",
        "outputId": "de932547-1aa6-4a06-a27f-5d26b44a667d"
      },
      "source": [
        "# Missing Files\n",
        "df.isna().sum()"
      ],
      "execution_count": null,
      "outputs": [
        {
          "output_type": "execute_result",
          "data": {
            "text/plain": [
              "a            0\n",
              "id           0\n",
              "c            0\n",
              "fakeclass    0\n",
              "class        0\n",
              "dtype: int64"
            ]
          },
          "metadata": {},
          "execution_count": 6
        }
      ]
    },
    {
      "cell_type": "code",
      "metadata": {
        "colab": {
          "base_uri": "https://localhost:8080/"
        },
        "id": "GJ3FfG-1oElx",
        "outputId": "53fbce92-8a3a-4e77-e11f-62f29979e2d7"
      },
      "source": [
        "# Duplicated data\n",
        "df.duplicated().sum()"
      ],
      "execution_count": null,
      "outputs": [
        {
          "output_type": "execute_result",
          "data": {
            "text/plain": [
              "0"
            ]
          },
          "metadata": {},
          "execution_count": 7
        }
      ]
    },
    {
      "cell_type": "markdown",
      "metadata": {
        "id": "FavIW_e8bQll"
      },
      "source": [
        "That means there is a lot of dissimilarity. But we need to separate the data ie the first bonafide and the spoof class\n"
      ]
    },
    {
      "cell_type": "code",
      "metadata": {
        "id": "Gp7360YTA2Wc",
        "colab": {
          "base_uri": "https://localhost:8080/"
        },
        "outputId": "b8f9f1de-8d61-472e-e1a2-41b9e26a6c01"
      },
      "source": [
        "df1 = df[df['fakeclass']== \"-\"]\n",
        "df1.shape"
      ],
      "execution_count": null,
      "outputs": [
        {
          "output_type": "execute_result",
          "data": {
            "text/plain": [
              "(2548, 5)"
            ]
          },
          "metadata": {},
          "execution_count": 8
        }
      ]
    },
    {
      "cell_type": "code",
      "metadata": {
        "id": "9Ami8NSCcEI7"
      },
      "source": [
        "# so now that df1 is only the bonified data we can get "
      ],
      "execution_count": null,
      "outputs": []
    },
    {
      "cell_type": "code",
      "metadata": {
        "id": "EwnESL9EX4zT"
      },
      "source": [
        "# Move all the real audio files in one location\n",
        "pathlib.Path(f'AudioSample/real').mkdir(parents = True ,exist_ok = True)\n",
        "real_audio = df1['id']\n",
        "\n",
        "#\n",
        "for file in real_audio:\n",
        "  file_name = os.path.join(\"/content/LA/ASVspoof2019_LA_dev/flac/\"+ file +\".flac\" )\n",
        "  if os.path.isfile(file_name):\n",
        "    # shutil.move(\"path/to/current/file\", \"path/to/new/destination/for/file\")\n",
        "    shutil.copy(file_name, '/content/LA/AudioSample/real')\n"
      ],
      "execution_count": null,
      "outputs": []
    },
    {
      "cell_type": "code",
      "metadata": {
        "id": "QX084uJQSOxM"
      },
      "source": [
        "# Log wandb sample\n",
        "# sampl"
      ],
      "execution_count": null,
      "outputs": []
    },
    {
      "cell_type": "code",
      "metadata": {
        "colab": {
          "base_uri": "https://localhost:8080/"
        },
        "id": "zYHE4fUoURX4",
        "outputId": "a1856ef7-01b0-4fa8-fe18-8353a0d21225"
      },
      "source": [
        "df2 = df[df['fakeclass'].isin(['A01', 'A02', 'A03', 'A04', 'A07'])]\n",
        "df2.shape"
      ],
      "execution_count": null,
      "outputs": [
        {
          "output_type": "execute_result",
          "data": {
            "text/plain": [
              "(14864, 5)"
            ]
          },
          "metadata": {},
          "execution_count": 10
        }
      ]
    },
    {
      "cell_type": "code",
      "metadata": {
        "id": "ser4ArCYSMru"
      },
      "source": [
        "# Move all the real audio files in one location\n",
        "pathlib.Path(f'AudioSample/tts').mkdir(parents = True ,exist_ok = True)\n",
        "tts_audio = df2['id']\n",
        "\n",
        "#\n",
        "for file in tts_audio:\n",
        "  file_name = os.path.join(\"/content/LA/ASVspoof2019_LA_dev/flac/\"+ file +\".flac\" )\n",
        "  if os.path.isfile(file_name):\n",
        "    # shutil.move(\"path/to/current/file\", \"path/to/new/destination/for/file\")\n",
        "    shutil.copy(file_name, '/content/LA/AudioSample/tts')"
      ],
      "execution_count": null,
      "outputs": []
    },
    {
      "cell_type": "code",
      "metadata": {
        "id": "mbTPUnC07-HI"
      },
      "source": [
        "# log the real audio samples on wandb \n",
        "# for loop "
      ],
      "execution_count": null,
      "outputs": []
    },
    {
      "cell_type": "code",
      "metadata": {
        "id": "IrYqgpgEPTd_"
      },
      "source": [
        "# Sample . "
      ],
      "execution_count": null,
      "outputs": []
    },
    {
      "cell_type": "code",
      "metadata": {
        "colab": {
          "base_uri": "https://localhost:8080/"
        },
        "id": "Y98RHPs8NSsl",
        "outputId": "0813f30b-9c4a-4836-c369-69daac1fac0c"
      },
      "source": [
        "df3 = df[df['fakeclass'].isin(['A05', 'A06', 'A17', 'A18', 'A19'])]\n",
        "df3.shape"
      ],
      "execution_count": null,
      "outputs": [
        {
          "output_type": "execute_result",
          "data": {
            "text/plain": [
              "(7432, 5)"
            ]
          },
          "metadata": {},
          "execution_count": 12
        }
      ]
    },
    {
      "cell_type": "code",
      "metadata": {
        "id": "ksutpIdEFPwa"
      },
      "source": [
        "# Move all the Vocoder synthesized audio files in one location\n",
        "pathlib.Path(f'AudioSample/voc').mkdir(parents = True ,exist_ok = True)\n",
        "name_of_audio = df3['id']\n",
        "\n",
        "#\n",
        "for file in name_of_audio:\n",
        "  file_name = os.path.join(\"/content/LA/ASVspoof2019_LA_dev/flac/\", file +\".flac\" )\n",
        "  if os.path.isfile(file_name):\n",
        "    shutil.copy(file_name, 'AudioSample/voc')"
      ],
      "execution_count": null,
      "outputs": []
    },
    {
      "cell_type": "code",
      "metadata": {
        "id": "QzWUJJd5FPuH"
      },
      "source": [
        "# log inti wandb \n"
      ],
      "execution_count": null,
      "outputs": []
    },
    {
      "cell_type": "code",
      "metadata": {
        "id": "UoiECGZiPbTZ"
      },
      "source": [
        "# sample"
      ],
      "execution_count": null,
      "outputs": []
    },
    {
      "cell_type": "code",
      "metadata": {
        "id": "50R6fqctWPpa"
      },
      "source": [
        "import plotly.express as px\n",
        "import plotly.graph_objects as go\n",
        "\n",
        "# \n",
        "# clas = px.df['class'].value_counts()\n",
        "fig = go.Figure(data=[go.Pie(labels=['Spoof','Bonafide'],\n",
        "                             values=[2548,22296])])\n",
        "fig.update_traces(hoverinfo='label+percent', textinfo='value+label', textfont_size=15,\n",
        "                  marker=dict(line=dict(color='#000000', width=2)))\n",
        "fig.show()"
      ],
      "execution_count": null,
      "outputs": []
    },
    {
      "cell_type": "markdown",
      "metadata": {
        "id": "V3Sn2wwUZFpr"
      },
      "source": [
        "There is a lot of Data that is spoofed so we will have to segment it. "
      ]
    },
    {
      "cell_type": "code",
      "metadata": {
        "id": "RlBdXYpfA2PG",
        "colab": {
          "base_uri": "https://localhost:8080/"
        },
        "outputId": "63f30ca2-21d8-469e-c2d9-04c210d5c211"
      },
      "source": [
        "# Finding out the number of classes in the data\n",
        "df['class'].value_counts()"
      ],
      "execution_count": null,
      "outputs": [
        {
          "output_type": "execute_result",
          "data": {
            "text/plain": [
              "spoof       22296\n",
              "bonafide     2548\n",
              "Name: class, dtype: int64"
            ]
          },
          "metadata": {},
          "execution_count": 14
        }
      ]
    },
    {
      "cell_type": "code",
      "metadata": {
        "colab": {
          "base_uri": "https://localhost:8080/"
        },
        "id": "xmq1xmDrFPmi",
        "outputId": "732671f9-bcb9-4a38-bf56-142b44f01892"
      },
      "source": [
        "fakeclass = df['fakeclass'].value_counts()\n",
        "fakeclass.to_dict()"
      ],
      "execution_count": null,
      "outputs": [
        {
          "output_type": "execute_result",
          "data": {
            "text/plain": [
              "{'-': 2548,\n",
              " 'A01': 3716,\n",
              " 'A02': 3716,\n",
              " 'A03': 3716,\n",
              " 'A04': 3716,\n",
              " 'A05': 3716,\n",
              " 'A06': 3716}"
            ]
          },
          "metadata": {},
          "execution_count": 15
        }
      ]
    },
    {
      "cell_type": "code",
      "metadata": {
        "id": "A3u16DOgZ3hi"
      },
      "source": [
        "# import plotly.graph_objects as go\n",
        "# fig = go.Figure(data=[go.Pie(fakeclass)])\n",
        "#                 # marker=dict(line=dict(color='#000000', width=2)))\n",
        "# fig.show()"
      ],
      "execution_count": null,
      "outputs": []
    },
    {
      "cell_type": "code",
      "metadata": {
        "id": "D_bnoQePrpLo"
      },
      "source": [
        ""
      ],
      "execution_count": null,
      "outputs": []
    },
    {
      "cell_type": "code",
      "metadata": {
        "colab": {
          "base_uri": "https://localhost:8080/",
          "height": 75
        },
        "id": "wuB7_F2UFPkH",
        "outputId": "5ff3500c-af0d-4c97-bec1-c0a5a812399a"
      },
      "source": [
        "Audio(\"/content/LA/AudioSample/real/LA_D_1024892.flac\")"
      ],
      "execution_count": null,
      "outputs": [
        {
          "output_type": "execute_result",
          "data": {
            "text/html": [
              "\n",
              "                <audio controls=\"controls\" >\n",
              "                    <source src=\"data:audio/flac;base64,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\" type=\"audio/flac\" />\n",
              "                    Your browser does not support the audio element.\n",
              "                </audio>\n",
              "              "
            ],
            "text/plain": [
              "<IPython.lib.display.Audio object>"
            ]
          },
          "metadata": {},
          "execution_count": 16
        }
      ]
    },
    {
      "cell_type": "code",
      "metadata": {
        "id": "EaQCFY8S3d1_"
      },
      "source": [
        ""
      ],
      "execution_count": null,
      "outputs": []
    },
    {
      "cell_type": "code",
      "metadata": {
        "colab": {
          "base_uri": "https://localhost:8080/",
          "height": 206
        },
        "id": "r4SnE8on3va_",
        "outputId": "39093bf3-47b6-4e12-dc3e-6d8baaa9f28c"
      },
      "source": [
        "# We should stratify the data into  smaller dataframe that is more managable to handle. \n",
        "import random\n",
        "\n",
        "random.seed(42)\n",
        "\n",
        "# Separating the bonafide and spoof\n",
        "\n",
        "bonafide = df[df['class'] == 'bonafide']\n",
        "spoof = df[df['class']== \"spoof\"]\n",
        "\n",
        "# Sampling\n",
        "bonafide_samp = bonafide.sample(n = 1000)\n",
        "spoof = spoof.sample (n = 1000)\n",
        "\n",
        "\n",
        "# Concat.\n",
        "stratified_df = pd.concat([bonafide_samp, spoof], ignore_index=True)\n",
        "stratified_df.head()"
      ],
      "execution_count": null,
      "outputs": [
        {
          "output_type": "execute_result",
          "data": {
            "text/html": [
              "<div>\n",
              "<style scoped>\n",
              "    .dataframe tbody tr th:only-of-type {\n",
              "        vertical-align: middle;\n",
              "    }\n",
              "\n",
              "    .dataframe tbody tr th {\n",
              "        vertical-align: top;\n",
              "    }\n",
              "\n",
              "    .dataframe thead th {\n",
              "        text-align: right;\n",
              "    }\n",
              "</style>\n",
              "<table border=\"1\" class=\"dataframe\">\n",
              "  <thead>\n",
              "    <tr style=\"text-align: right;\">\n",
              "      <th></th>\n",
              "      <th>a</th>\n",
              "      <th>id</th>\n",
              "      <th>c</th>\n",
              "      <th>fakeclass</th>\n",
              "      <th>class</th>\n",
              "    </tr>\n",
              "  </thead>\n",
              "  <tbody>\n",
              "    <tr>\n",
              "      <th>0</th>\n",
              "      <td>LA_0072</td>\n",
              "      <td>LA_D_8473267</td>\n",
              "      <td>-</td>\n",
              "      <td>-</td>\n",
              "      <td>bonafide</td>\n",
              "    </tr>\n",
              "    <tr>\n",
              "      <th>1</th>\n",
              "      <td>LA_0102</td>\n",
              "      <td>LA_D_6919759</td>\n",
              "      <td>-</td>\n",
              "      <td>-</td>\n",
              "      <td>bonafide</td>\n",
              "    </tr>\n",
              "    <tr>\n",
              "      <th>2</th>\n",
              "      <td>LA_0076</td>\n",
              "      <td>LA_D_2895802</td>\n",
              "      <td>-</td>\n",
              "      <td>-</td>\n",
              "      <td>bonafide</td>\n",
              "    </tr>\n",
              "    <tr>\n",
              "      <th>3</th>\n",
              "      <td>LA_0070</td>\n",
              "      <td>LA_D_6288751</td>\n",
              "      <td>-</td>\n",
              "      <td>-</td>\n",
              "      <td>bonafide</td>\n",
              "    </tr>\n",
              "    <tr>\n",
              "      <th>4</th>\n",
              "      <td>LA_0107</td>\n",
              "      <td>LA_D_6838449</td>\n",
              "      <td>-</td>\n",
              "      <td>-</td>\n",
              "      <td>bonafide</td>\n",
              "    </tr>\n",
              "  </tbody>\n",
              "</table>\n",
              "</div>"
            ],
            "text/plain": [
              "         a            id  c fakeclass     class\n",
              "0  LA_0072  LA_D_8473267  -         -  bonafide\n",
              "1  LA_0102  LA_D_6919759  -         -  bonafide\n",
              "2  LA_0076  LA_D_2895802  -         -  bonafide\n",
              "3  LA_0070  LA_D_6288751  -         -  bonafide\n",
              "4  LA_0107  LA_D_6838449  -         -  bonafide"
            ]
          },
          "metadata": {},
          "execution_count": 17
        }
      ]
    },
    {
      "cell_type": "code",
      "metadata": {
        "colab": {
          "base_uri": "https://localhost:8080/"
        },
        "id": "d62KuImhItLA",
        "outputId": "bb4ca5a7-4ea5-4e3a-aae8-9233070283ca"
      },
      "source": [
        "stratified_df['fakeclass'].value_counts()"
      ],
      "execution_count": null,
      "outputs": [
        {
          "output_type": "execute_result",
          "data": {
            "text/plain": [
              "-      1000\n",
              "A05     181\n",
              "A06     175\n",
              "A03     170\n",
              "A04     164\n",
              "A01     156\n",
              "A02     154\n",
              "Name: fakeclass, dtype: int64"
            ]
          },
          "metadata": {},
          "execution_count": 18
        }
      ]
    },
    {
      "cell_type": "code",
      "metadata": {
        "colab": {
          "base_uri": "https://localhost:8080/"
        },
        "id": "UNyTJh_cQrt8",
        "outputId": "471ccd1d-cb2e-4d0f-dd2e-5c84c75b70c4"
      },
      "source": [
        "stratified_df['class'].value_counts()"
      ],
      "execution_count": null,
      "outputs": [
        {
          "output_type": "execute_result",
          "data": {
            "text/plain": [
              "spoof       1000\n",
              "bonafide    1000\n",
              "Name: class, dtype: int64"
            ]
          },
          "metadata": {},
          "execution_count": 19
        }
      ]
    },
    {
      "cell_type": "markdown",
      "metadata": {
        "id": "8ESbl92PPv_4"
      },
      "source": [
        "Well there are also ....."
      ]
    },
    {
      "cell_type": "code",
      "metadata": {
        "colab": {
          "base_uri": "https://localhost:8080/",
          "height": 75
        },
        "id": "mHzUFJaaWT0v",
        "outputId": "f173e929-1de0-4756-e473-edf7f8ecc8bf"
      },
      "source": [
        "Audio(\"/content/LA/AudioSample/voc/LA_D_1000752.flac\")"
      ],
      "execution_count": null,
      "outputs": [
        {
          "output_type": "execute_result",
          "data": {
            "text/html": [
              "\n",
              "                <audio controls=\"controls\" >\n",
              "                    <source src=\"data:audio/flac;base64,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\" type=\"audio/flac\" />\n",
              "                    Your browser does not support the audio element.\n",
              "                </audio>\n",
              "              "
            ],
            "text/plain": [
              "<IPython.lib.display.Audio object>"
            ]
          },
          "metadata": {},
          "execution_count": 22
        }
      ]
    },
    {
      "cell_type": "code",
      "metadata": {
        "colab": {
          "base_uri": "https://localhost:8080/"
        },
        "id": "BR-pbZ3razwu",
        "outputId": "ea88f00e-0a37-4de5-f338-5452eff5b277"
      },
      "source": [
        "print(len(os.listdir('/content/LA/AudioSample/real')))\n",
        "print(len(os.listdir('/content/LA/AudioSample/voc')))\n",
        "print(len(os.listdir('/content/LA/AudioSample/tts')))\n"
      ],
      "execution_count": null,
      "outputs": [
        {
          "output_type": "stream",
          "name": "stdout",
          "text": [
            "2548\n",
            "7432\n",
            "14864\n"
          ]
        }
      ]
    },
    {
      "cell_type": "code",
      "metadata": {
        "id": "FBKDS5xRbR8O",
        "colab": {
          "base_uri": "https://localhost:8080/",
          "height": 182
        },
        "outputId": "de911b8e-dcac-465b-d465-5112aff3db1f"
      },
      "source": [
        "# Convert Audio from the DF to to mel specrtogram \n",
        "uploaded = .upload()\n"
      ],
      "execution_count": null,
      "outputs": [
        {
          "output_type": "error",
          "ename": "NameError",
          "evalue": "ignored",
          "traceback": [
            "\u001b[0;31m---------------------------------------------------------------------------\u001b[0m",
            "\u001b[0;31mNameError\u001b[0m                                 Traceback (most recent call last)",
            "\u001b[0;32m<ipython-input-23-310e607f5116>\u001b[0m in \u001b[0;36m<module>\u001b[0;34m()\u001b[0m\n\u001b[1;32m      1\u001b[0m \u001b[0;31m# Convert Audio from the DF to to mel specrtogram\u001b[0m\u001b[0;34m\u001b[0m\u001b[0;34m\u001b[0m\u001b[0;34m\u001b[0m\u001b[0m\n\u001b[0;32m----> 2\u001b[0;31m \u001b[0muploaded\u001b[0m \u001b[0;34m=\u001b[0m \u001b[0mImageData\u001b[0m\u001b[0;34m.\u001b[0m\u001b[0mupload\u001b[0m\u001b[0;34m(\u001b[0m\u001b[0;34m)\u001b[0m\u001b[0;34m\u001b[0m\u001b[0;34m\u001b[0m\u001b[0m\n\u001b[0m",
            "\u001b[0;31mNameError\u001b[0m: name 'ImageData' is not defined"
          ]
        }
      ]
    },
    {
      "cell_type": "code",
      "metadata": {
        "id": "AtWyQt74PwD-"
      },
      "source": [
        "all_audio = stratified_df['id']\n",
        "mypath = \"/content/LA/ImageData\"\n",
        "\n",
        "pathlib.Path(f'ImageData').mkdir(parents=True, exist_ok=True)\n",
        "for file in all_audio:\n",
        "    file_name = os.path.join(\"/content/LA/ASVspoof2019_LA_dev/flac/\"+ file +\".flac\" )\n",
        "    y, sy = sf.read(f\"{file_name}\")\n",
        "    sy\n",
        "    # Passing through arguments to the Mel filters\n",
        "    S = librosa.feature.melspectrogram(y=y, sr=sy, n_mels=128,\n",
        "                                        fmax=8000)\n",
        "    plt.figure(figsize=(10, 4))\n",
        "    librosa.display.specshow(librosa.power_to_db(S,\n",
        "                                                ref=np.max),\n",
        "                            y_axis='mel', fmax=8000,\n",
        "                            x_axis='time')\n",
        "    plt.colorbar(format='%+2.0f dB')\n",
        "    plt.tight_layout()\n",
        "    plt.savefig(f\"/content/LA/ImageData/{file}.png\")"
      ],
      "execution_count": null,
      "outputs": []
    },
    {
      "cell_type": "code",
      "metadata": {
        "id": "6lDa2Gi0rvRc"
      },
      "source": [
        "# wandb.log({\"examples\": [wandb.Audio(y, caption=\"EXA\", sample_rate=1600)]})"
      ],
      "execution_count": null,
      "outputs": []
    },
    {
      "cell_type": "code",
      "metadata": {
        "colab": {
          "base_uri": "https://localhost:8080/"
        },
        "id": "BkdZuLj_z9UI",
        "outputId": "1584f98b-13ef-45db-ef5d-7fb7079640cc"
      },
      "source": [
        "len(os.listdir(\"/content/drive/MyDrive/projectweeks/ImageData\"))"
      ],
      "execution_count": null,
      "outputs": [
        {
          "output_type": "execute_result",
          "data": {
            "text/plain": [
              "2000"
            ]
          },
          "metadata": {},
          "execution_count": 25
        }
      ]
    },
    {
      "cell_type": "code",
      "metadata": {
        "id": "I3kgdNid1Aru"
      },
      "source": [
        "# The data to be used for our Image CNN model is saved under ImageData. \n",
        "# We should split the data into training and testing set\n",
        "\n",
        "from sklearn.model_selection import train_test_split\n",
        "\n",
        "stratified_df.columns\n",
        "\n",
        "random.seed(42)\n",
        "# The label for this cnn model will be the ID and the target will be class\n",
        "X = stratified_df[['id', 'class']]\n",
        "y = stratified_df['class']\n",
        "\n",
        "# train test split\n",
        "# We will split the data into a 80 - 20 split\n",
        "\n",
        "X_train, X_test, y_train, y_test = train_test_split(X,y, test_size = .2, random_state = 42)\n"
      ],
      "execution_count": null,
      "outputs": []
    },
    {
      "cell_type": "code",
      "metadata": {
        "colab": {
          "base_uri": "https://localhost:8080/"
        },
        "id": "ORKU_MTuuRxH",
        "outputId": "a095d49a-18a2-46e1-9631-bd0002cf0b52"
      },
      "source": [
        "\n",
        "X_train['class'].value_counts()"
      ],
      "execution_count": null,
      "outputs": [
        {
          "output_type": "execute_result",
          "data": {
            "text/plain": [
              "bonafide    801\n",
              "spoof       799\n",
              "Name: class, dtype: int64"
            ]
          },
          "metadata": {},
          "execution_count": 95
        }
      ]
    },
    {
      "cell_type": "code",
      "metadata": {
        "id": "vKFgp4YTcf-L"
      },
      "source": [
        "# Transfer the training data into folders\n",
        "pathlib.Path(f'/content/drive/MyDrive/projectweeks/Train/Bonafide').mkdir(parents = True ,exist_ok = True)\n",
        "\n",
        "bonafied_fold = X_train[X_train[\"class\"]== 'bonafide']\n",
        "bona_id = bonafied_fold['id'] \n",
        "\n",
        "for file in bona_id:\n",
        "  file_name = os.path.join(\"/content/drive/MyDrive/projectweeks/ImageData/\"+ file +\".png\" )\n",
        "  if os.path.isfile(file_name):\n",
        "    # shutil.move(\"path/to/current/file\", \"path/to/new/destination/for/file\")\n",
        "    shutil.copy(file_name, '/content/drive/MyDrive/projectweeks/Train/Bonafide')"
      ],
      "execution_count": null,
      "outputs": []
    },
    {
      "cell_type": "code",
      "metadata": {
        "colab": {
          "base_uri": "https://localhost:8080/"
        },
        "id": "b__8pt10whCl",
        "outputId": "7e057bfc-03b6-47b8-ce65-08e87d6b27e3"
      },
      "source": [
        "len(os.listdir('/content/drive/MyDrive/projectweeks/Train/Bonafide'))"
      ],
      "execution_count": null,
      "outputs": [
        {
          "output_type": "execute_result",
          "data": {
            "text/plain": [
              "800"
            ]
          },
          "metadata": {},
          "execution_count": 107
        }
      ]
    },
    {
      "cell_type": "code",
      "metadata": {
        "id": "R5DMUdyolTHd"
      },
      "source": [
        "# Transfer the training data into folders\n",
        "#make the folder \n",
        "pathlib.Path(f'/content/drive/MyDrive/projectweeks/Train/Spoof').mkdir(parents = True ,exist_ok = True)\n",
        "\n",
        "# Separate the data \n",
        "spoofed_data = X_train[X_train[\"class\"] == 'spoof']\n",
        "spoof_id = spoofed_data['id'] # get the id\n",
        "\n",
        "for file in spoof_id:\n",
        "  file_name = os.path.join(\"/content/drive/MyDrive/projectweeks/ImageData/\"+ file +\".png\" )\n",
        "  if os.path.isfile(file_name):\n",
        "    # shutil.move(\"path/to/current/file\", \"path/to/new/destination/for/file\")\n",
        "    shutil.copy(file_name, '/content/drive/MyDrive/projectweeks/Train/Spoof')"
      ],
      "execution_count": null,
      "outputs": []
    },
    {
      "cell_type": "code",
      "metadata": {
        "colab": {
          "base_uri": "https://localhost:8080/"
        },
        "id": "Zfl_6xhaw-av",
        "outputId": "64c8412e-8ceb-493d-ab10-5a4945781a13"
      },
      "source": [
        "len(os.listdir('/content/drive/MyDrive/projectweeks/Train/Spoof'))"
      ],
      "execution_count": null,
      "outputs": [
        {
          "output_type": "execute_result",
          "data": {
            "text/plain": [
              "799"
            ]
          },
          "metadata": {},
          "execution_count": 101
        }
      ]
    },
    {
      "cell_type": "code",
      "metadata": {
        "id": "39ScYdpL9Vrt"
      },
      "source": [
        "# Now we have to do the same for the test data \n",
        "# Transfer the testing data into folders\n",
        "pathlib.Path(f'/content/drive/MyDrive/projectweeks/Test/Bonafide').mkdir(parents = True ,exist_ok = True)\n",
        "\n",
        "bonafied_fold = X_test[X_test[\"class\"]== 'bonafide']\n",
        "bona_id = bonafied_fold['id'] \n",
        "\n",
        "for file in bona_id:\n",
        "  file_name = os.path.join(\"/content/drive/MyDrive/projectweeks/ImageData/\"+ file +\".png\" )\n",
        "  if os.path.isfile(file_name):\n",
        "    # shutil.move(\"path/to/current/file\", \"path/to/new/destination/for/file\")\n",
        "    shutil.copy(file_name, '/content/drive/MyDrive/projectweeks/Test/Bonafide')"
      ],
      "execution_count": null,
      "outputs": []
    },
    {
      "cell_type": "code",
      "metadata": {
        "colab": {
          "base_uri": "https://localhost:8080/"
        },
        "id": "B_7PhCBb1HiZ",
        "outputId": "dca303c1-435b-4c50-d9ce-f2966e97829c"
      },
      "source": [
        "len (os.listdir('/content/drive/MyDrive/projectweeks/Test/Bonafide'))"
      ],
      "execution_count": null,
      "outputs": [
        {
          "output_type": "execute_result",
          "data": {
            "text/plain": [
              "199"
            ]
          },
          "metadata": {},
          "execution_count": 103
        }
      ]
    },
    {
      "cell_type": "code",
      "metadata": {
        "id": "nCsc3D5S9VoA"
      },
      "source": [
        "pathlib.Path(f'/content/drive/MyDrive/projectweeks/Test/Spoof').mkdir(parents = True ,exist_ok = True)\n",
        "\n",
        "# Separate the data \n",
        "spoofed_data = X_test[X_test[\"class\"] == 'spoof']\n",
        "spoof_id = spoofed_data['id'] # get the id\n",
        "\n",
        "for file in spoof_id:\n",
        "  file_name = os.path.join(\"/content/drive/MyDrive/projectweeks/ImageData/\"+ file +\".png\" )\n",
        "  if os.path.isfile(file_name):\n",
        "    # shutil.move(\"path/to/current/file\", \"path/to/new/destination/for/file\")\n",
        "    shutil.copy(file_name, '/content/drive/MyDrive/projectweeks/Test/Spoof')"
      ],
      "execution_count": null,
      "outputs": []
    },
    {
      "cell_type": "code",
      "metadata": {
        "id": "2fgClwBZ7BBE",
        "colab": {
          "base_uri": "https://localhost:8080/"
        },
        "outputId": "3d13f299-973e-461b-ab7e-d9011dca4123"
      },
      "source": [
        "len (os.listdir('/content/drive/MyDrive/projectweeks/Test/Spoof'))"
      ],
      "execution_count": null,
      "outputs": [
        {
          "output_type": "execute_result",
          "data": {
            "text/plain": [
              "201"
            ]
          },
          "metadata": {},
          "execution_count": 105
        }
      ]
    },
    {
      "cell_type": "code",
      "metadata": {
        "id": "q_cjfaxn7Zxu"
      },
      "source": [
        "# now all the training and testing data is in the right place. \n",
        "# next step is the modeling"
      ],
      "execution_count": null,
      "outputs": []
    },
    {
      "cell_type": "code",
      "metadata": {
        "id": "ls7fFBRw80iI"
      },
      "source": [
        ""
      ],
      "execution_count": null,
      "outputs": []
    },
    {
      "cell_type": "code",
      "metadata": {
        "id": "jaIYh7hbXTTq"
      },
      "source": [
        ""
      ],
      "execution_count": null,
      "outputs": []
    }
  ]
}